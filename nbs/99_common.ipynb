{
 "cells": [
  {
   "cell_type": "markdown",
   "metadata": {
    "vscode": {
     "languageId": "plaintext"
    }
   },
   "source": [
    "## 如何修改字段类型？\n",
    "在导入数据时，你可以通过 `dtype` 参数指定 `订单周期` 字段为字符串类型：\n",
    "\n",
    "### 1. 在导入数据时指定类型\n",
    "```python\n",
    "data = pd.read_excel('part-2.xlsx', dtype={'订单周期': str})\n",
    "```\n",
    "\n",
    "### 2. 导入数据之后修改类型\n",
    "如果数据已经导入，你可以使用 `astype` 方法将 `订单周期` 字段转换为字符串：\n",
    "\n",
    "```python\n",
    "data['订单周期'] = data['订单周期'].astype(str)\n",
    "```"
   ]
  },
  {
   "cell_type": "code",
   "execution_count": 2,
   "metadata": {},
   "outputs": [
    {
     "name": "stdout",
     "output_type": "stream",
     "text": [
      "   商机编码  合同总金额（元） 人员名称\n",
      "0  A001    100000   张三\n",
      "0  A001    100000   李四\n",
      "1  A002    200000   张三\n",
      "1  A002    200000   赵六\n",
      "1  A002    200000   孙七\n"
     ]
    }
   ],
   "source": [
    "import pandas as pd\n",
    "\n",
    "# 假设你的数据存储在一个 DataFrame 中\n",
    "data = {\n",
    "    '商机编码': ['A001', 'A002'],\n",
    "    '合同总金额（元）': [100000, 200000],\n",
    "    '人员名称': ['张三,李四', '张三,赵六,孙七']\n",
    "}\n",
    "\n",
    "df = pd.DataFrame(data)\n",
    "\n",
    "# 拆分人员名称列\n",
    "df['人员名称'] = df['人员名称'].str.split(',')\n",
    "\n",
    "# 使用 explode 将拆分的列表展开为多行\n",
    "df_expanded = df.explode('人员名称')\n",
    "\n",
    "# 输出结果\n",
    "print(df_expanded)"
   ]
  },
  {
   "cell_type": "code",
   "execution_count": 6,
   "metadata": {},
   "outputs": [
    {
     "data": {
      "text/html": [
       "<div>\n",
       "<style scoped>\n",
       "    .dataframe tbody tr th:only-of-type {\n",
       "        vertical-align: middle;\n",
       "    }\n",
       "\n",
       "    .dataframe tbody tr th {\n",
       "        vertical-align: top;\n",
       "    }\n",
       "\n",
       "    .dataframe thead th {\n",
       "        text-align: right;\n",
       "    }\n",
       "</style>\n",
       "<table border=\"1\" class=\"dataframe\">\n",
       "  <thead>\n",
       "    <tr style=\"text-align: right;\">\n",
       "      <th></th>\n",
       "      <th>商机编码</th>\n",
       "      <th>合同总金额（元）</th>\n",
       "      <th>人员名称</th>\n",
       "    </tr>\n",
       "  </thead>\n",
       "  <tbody>\n",
       "    <tr>\n",
       "      <th>0</th>\n",
       "      <td>A001</td>\n",
       "      <td>100000</td>\n",
       "      <td>张三</td>\n",
       "    </tr>\n",
       "    <tr>\n",
       "      <th>1</th>\n",
       "      <td>A001</td>\n",
       "      <td>100000</td>\n",
       "      <td>张三</td>\n",
       "    </tr>\n",
       "    <tr>\n",
       "      <th>2</th>\n",
       "      <td>A002</td>\n",
       "      <td>200000</td>\n",
       "      <td>李四</td>\n",
       "    </tr>\n",
       "    <tr>\n",
       "      <th>3</th>\n",
       "      <td>A002</td>\n",
       "      <td>200000</td>\n",
       "      <td>李四</td>\n",
       "    </tr>\n",
       "    <tr>\n",
       "      <th>4</th>\n",
       "      <td>A001</td>\n",
       "      <td>100000</td>\n",
       "      <td>张三</td>\n",
       "    </tr>\n",
       "    <tr>\n",
       "      <th>5</th>\n",
       "      <td>A003</td>\n",
       "      <td>100000</td>\n",
       "      <td>王五</td>\n",
       "    </tr>\n",
       "  </tbody>\n",
       "</table>\n",
       "</div>"
      ],
      "text/plain": [
       "   商机编码  合同总金额（元） 人员名称\n",
       "0  A001    100000   张三\n",
       "1  A001    100000   张三\n",
       "2  A002    200000   李四\n",
       "3  A002    200000   李四\n",
       "4  A001    100000   张三\n",
       "5  A003    100000   王五"
      ]
     },
     "execution_count": 6,
     "metadata": {},
     "output_type": "execute_result"
    }
   ],
   "source": [
    "import pandas as pd\n",
    "\n",
    "# 假设你的数据存储在一个 DataFrame 中\n",
    "data = {\n",
    "    '商机编码': ['A001', 'A001', 'A002', 'A002', 'A001','A003'],\n",
    "    '合同总金额（元）': [100000, 100000, 200000, 200000, 100000, 100000],\n",
    "    '人员名称': ['张三', '张三', '李四', '李四', '张三','王五']\n",
    "}\n",
    "\n",
    "df = pd.DataFrame(data)\n",
    "\n",
    "df\n"
   ]
  },
  {
   "cell_type": "code",
   "execution_count": 7,
   "metadata": {},
   "outputs": [
    {
     "data": {
      "text/plain": [
       "0    100000\n",
       "1    100000\n",
       "2    200000\n",
       "3    200000\n",
       "4    100000\n",
       "Name: 合同总金额（元）, dtype: int64"
      ]
     },
     "execution_count": 7,
     "metadata": {},
     "output_type": "execute_result"
    }
   ],
   "source": [
    "# 先对数据进行分组并过滤出重复的组合\n",
    "duplicates = df.groupby(['商机编码', '人员名称'])['合同总金额（元）'].filter(lambda x: len(x) > 1)\n",
    "duplicates"
   ]
  },
  {
   "cell_type": "code",
   "execution_count": 12,
   "metadata": {},
   "outputs": [
    {
     "name": "stdout",
     "output_type": "stream",
     "text": [
      "    字段1  字段2  字段3\n",
      "AA  5.0  5.0  NaN\n",
      "BB  1.0  1.0  5.0\n",
      "CC  1.0  1.0  NaN\n",
      "EE  NaN  NaN  1.0\n"
     ]
    }
   ],
   "source": [
    "import pandas as pd\n",
    "\n",
    "# 创建三个Series对象\n",
    "series1 = pd.Series([5, 1, 1], index=['AA', 'BB', 'CC'], name='字段1')\n",
    "series2 = pd.Series([5, 1, 1], index=['AA', 'BB', 'CC'], name='字段2')\n",
    "series3 = pd.Series([5, 1], index=['BB', 'EE'], name='字段3')\n",
    "\n",
    "# 使用pd.concat合并Series为DataFrame\n",
    "df = pd.concat([series1, series2, series3], axis=1)\n",
    "\n",
    "print(df)"
   ]
  },
  {
   "cell_type": "code",
   "execution_count": 10,
   "metadata": {},
   "outputs": [
    {
     "ename": "NameError",
     "evalue": "name 'unique_duplicates' is not defined",
     "output_type": "error",
     "traceback": [
      "\u001b[0;31m---------------------------------------------------------------------------\u001b[0m",
      "\u001b[0;31mNameError\u001b[0m                                 Traceback (most recent call last)",
      "Cell \u001b[0;32mIn[10], line 2\u001b[0m\n\u001b[1;32m      1\u001b[0m \u001b[38;5;66;03m# 输出结果\u001b[39;00m\n\u001b[0;32m----> 2\u001b[0m \u001b[38;5;28mprint\u001b[39m(\u001b[43munique_duplicates\u001b[49m)\n",
      "\u001b[0;31mNameError\u001b[0m: name 'unique_duplicates' is not defined"
     ]
    }
   ],
   "source": [
    "\n",
    "\n",
    "# 输出结果\n",
    "print(unique_duplicates)"
   ]
  }
 ],
 "metadata": {
  "kernelspec": {
   "display_name": "py312",
   "language": "python",
   "name": "python3"
  },
  "language_info": {
   "codemirror_mode": {
    "name": "ipython",
    "version": 3
   },
   "file_extension": ".py",
   "mimetype": "text/x-python",
   "name": "python",
   "nbconvert_exporter": "python",
   "pygments_lexer": "ipython3",
   "version": "3.12.4"
  }
 },
 "nbformat": 4,
 "nbformat_minor": 2
}
