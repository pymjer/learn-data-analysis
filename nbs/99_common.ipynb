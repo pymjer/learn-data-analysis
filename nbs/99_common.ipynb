{
 "cells": [
  {
   "cell_type": "markdown",
   "metadata": {
    "vscode": {
     "languageId": "plaintext"
    }
   },
   "source": [
    "## 如何修改字段类型？\n",
    "在导入数据时，你可以通过 `dtype` 参数指定 `订单周期` 字段为字符串类型：\n",
    "\n",
    "### 1. 在导入数据时指定类型\n",
    "```python\n",
    "data = pd.read_excel('part-2.xlsx', dtype={'订单周期': str})\n",
    "```\n",
    "\n",
    "### 2. 导入数据之后修改类型\n",
    "如果数据已经导入，你可以使用 `astype` 方法将 `订单周期` 字段转换为字符串：\n",
    "\n",
    "```python\n",
    "data['订单周期'] = data['订单周期'].astype(str)\n",
    "```"
   ]
  }
 ],
 "metadata": {
  "language_info": {
   "name": "python"
  }
 },
 "nbformat": 4,
 "nbformat_minor": 2
}
