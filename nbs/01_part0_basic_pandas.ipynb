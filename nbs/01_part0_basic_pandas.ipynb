{
 "cells": [
  {
   "cell_type": "markdown",
   "metadata": {},
   "source": [
    "下面是一个电商订单数据的示例，以及使用 Python 中的 NumPy、Pandas 和 Seaborn 进行数据分析的步骤。\n",
    "\n",
    "### 1. 模拟数据\n",
    "\n",
    "首先，我们可以使用 NumPy 生成一些模拟的电商订单数据。"
   ]
  },
  {
   "cell_type": "code",
   "execution_count": 1,
   "metadata": {},
   "outputs": [],
   "source": [
    "import numpy as np\n",
    "import pandas as pd\n",
    "\n",
    "# 设置随机种子以便复现\n",
    "np.random.seed(42)\n",
    "\n",
    "# 模拟电商订单数据\n",
    "n_orders = 1000\n",
    "order_data = {\n",
    "    'order_id': np.arange(1, n_orders + 1),\n",
    "    'amount': np.random.gamma(shape=2, scale=50, size=n_orders).round(2),  # 模拟订单金额\n",
    "    'quantity': np.random.poisson(lam=3, size=n_orders),  # 模拟购买数量\n",
    "    'category': np.random.choice(['Electronics', 'Clothing', 'Home', 'Books'], n_orders)  # 商品分类\n",
    "}\n",
    "\n",
    "df = pd.DataFrame(order_data)"
   ]
  },
  {
   "cell_type": "code",
   "execution_count": 4,
   "metadata": {},
   "outputs": [
    {
     "data": {
      "text/html": [
       "<div>\n",
       "<style scoped>\n",
       "    .dataframe tbody tr th:only-of-type {\n",
       "        vertical-align: middle;\n",
       "    }\n",
       "\n",
       "    .dataframe tbody tr th {\n",
       "        vertical-align: top;\n",
       "    }\n",
       "\n",
       "    .dataframe thead th {\n",
       "        text-align: right;\n",
       "    }\n",
       "</style>\n",
       "<table border=\"1\" class=\"dataframe\">\n",
       "  <thead>\n",
       "    <tr style=\"text-align: right;\">\n",
       "      <th></th>\n",
       "      <th>order_id</th>\n",
       "      <th>amount</th>\n",
       "      <th>quantity</th>\n",
       "      <th>category</th>\n",
       "    </tr>\n",
       "  </thead>\n",
       "  <tbody>\n",
       "    <tr>\n",
       "      <th>0</th>\n",
       "      <td>1</td>\n",
       "      <td>119.68</td>\n",
       "      <td>3</td>\n",
       "      <td>Books</td>\n",
       "    </tr>\n",
       "    <tr>\n",
       "      <th>1</th>\n",
       "      <td>2</td>\n",
       "      <td>74.72</td>\n",
       "      <td>2</td>\n",
       "      <td>Clothing</td>\n",
       "    </tr>\n",
       "    <tr>\n",
       "      <th>2</th>\n",
       "      <td>3</td>\n",
       "      <td>69.11</td>\n",
       "      <td>0</td>\n",
       "      <td>Clothing</td>\n",
       "    </tr>\n",
       "    <tr>\n",
       "      <th>3</th>\n",
       "      <td>4</td>\n",
       "      <td>69.12</td>\n",
       "      <td>1</td>\n",
       "      <td>Books</td>\n",
       "    </tr>\n",
       "    <tr>\n",
       "      <th>4</th>\n",
       "      <td>5</td>\n",
       "      <td>232.49</td>\n",
       "      <td>1</td>\n",
       "      <td>Books</td>\n",
       "    </tr>\n",
       "  </tbody>\n",
       "</table>\n",
       "</div>"
      ],
      "text/plain": [
       "   order_id  amount  quantity  category\n",
       "0         1  119.68         3     Books\n",
       "1         2   74.72         2  Clothing\n",
       "2         3   69.11         0  Clothing\n",
       "3         4   69.12         1     Books\n",
       "4         5  232.49         1     Books"
      ]
     },
     "execution_count": 4,
     "metadata": {},
     "output_type": "execute_result"
    }
   ],
   "source": [
    "df.head()"
   ]
  },
  {
   "cell_type": "markdown",
   "metadata": {},
   "source": [
    "### 2. 数据集中度分析\n",
    "\n",
    "计算平均值、中位数和众数。"
   ]
  },
  {
   "cell_type": "code",
   "execution_count": 3,
   "metadata": {},
   "outputs": [
    {
     "name": "stdout",
     "output_type": "stream",
     "text": [
      "平均值: 102.99649, 中位数: 86.45500000000001, 众数: 4.36\n"
     ]
    }
   ],
   "source": [
    "# 平均值\n",
    "mean_amount = df['amount'].mean()\n",
    "# 中位数\n",
    "median_amount = df['amount'].median()\n",
    "# 众数\n",
    "mode_amount = df['amount'].mode()[0]  # 众数可能有多个，取第一个\n",
    "\n",
    "print(f\"平均值: {mean_amount}, 中位数: {median_amount}, 众数: {mode_amount}\")"
   ]
  },
  {
   "cell_type": "markdown",
   "metadata": {},
   "source": [
    "\n",
    "### 3. 数据离散程度分析\n",
    "\n",
    "计算方差、标准差和离散系数。"
   ]
  },
  {
   "cell_type": "code",
   "execution_count": 5,
   "metadata": {},
   "outputs": [
    {
     "name": "stdout",
     "output_type": "stream",
     "text": [
      "方差: 4920.029546126026, 标准差: 70.14292228105431, 离散系数: 0.6810224531054827\n"
     ]
    }
   ],
   "source": [
    "# 方差\n",
    "variance_amount = df['amount'].var()\n",
    "# 标准差\n",
    "std_dev_amount = df['amount'].std()\n",
    "# 离散系数\n",
    "cv_amount = std_dev_amount / mean_amount\n",
    "\n",
    "print(f\"方差: {variance_amount}, 标准差: {std_dev_amount}, 离散系数: {cv_amount}\")"
   ]
  },
  {
   "cell_type": "markdown",
   "metadata": {},
   "source": [
    "\n",
    "### 4. 数据分布形态\n",
    "\n",
    "使用 Z-score 判断数据是否偏态。"
   ]
  },
  {
   "cell_type": "code",
   "execution_count": 6,
   "metadata": {},
   "outputs": [
    {
     "name": "stdout",
     "output_type": "stream",
     "text": [
      "左偏: False, 右偏: True\n"
     ]
    }
   ],
   "source": [
    "# 计算 Z-score\n",
    "z_scores = (df['amount'] - mean_amount) / std_dev_amount\n",
    "df['z_score'] = z_scores\n",
    "\n",
    "# 判断偏态\n",
    "left_skewed = (z_scores[z_scores < -1].count() > z_scores[z_scores > 1].count())\n",
    "right_skewed = (z_scores[z_scores > 1].count() > z_scores[z_scores < -1].count())\n",
    "\n",
    "print(f\"左偏: {left_skewed}, 右偏: {right_skewed}\")\n"
   ]
  },
  {
   "cell_type": "markdown",
   "metadata": {},
   "source": [
    "\n",
    "### 5. 数据相关性\n",
    "\n",
    "计算 Pearson 相关系数。"
   ]
  },
  {
   "cell_type": "code",
   "execution_count": 8,
   "metadata": {},
   "outputs": [
    {
     "name": "stdout",
     "output_type": "stream",
     "text": [
      "相关性矩阵:\n",
      "            amount  quantity\n",
      "amount    1.000000  0.020442\n",
      "quantity  0.020442  1.000000\n",
      "订单金额与购买数量的 Pearson 相关系数: 0.020441895767173385\n"
     ]
    }
   ],
   "source": [
    "# 计算相关系数\n",
    "correlation_matrix = df[['amount', 'quantity']].corr(method='pearson')\n",
    "\n",
    "print(\"相关性矩阵:\")\n",
    "print(correlation_matrix)\n",
    "\n",
    "# 获取相关系数值\n",
    "pearson_coefficient = correlation_matrix.loc['amount', 'quantity']\n",
    "print(f\"订单金额与购买数量的 Pearson 相关系数: {pearson_coefficient}\")"
   ]
  },
  {
   "cell_type": "markdown",
   "metadata": {},
   "source": [
    "### 6. 可视化数据分布\n",
    "\n",
    "使用 Seaborn 可视化订单金额的分布。"
   ]
  },
  {
   "cell_type": "code",
   "execution_count": 9,
   "metadata": {},
   "outputs": [
    {
     "data": {
      "image/png": "[encoded data removed]",
      "text/plain": [
       "<Figure size 640x480 with 1 Axes>"
      ]
     },
     "metadata": {},
     "output_type": "display_data"
    }
   ],
   "source": [
    "import seaborn as sns\n",
    "import matplotlib.pyplot as plt\n",
    "\n",
    "sns.histplot(df['amount'], bins=30, kde=True)\n",
    "plt.title('Order Amount Distribution')\n",
    "plt.xlabel('Order Amount')\n",
    "plt.ylabel('Frequency')\n",
    "plt.show()"
   ]
  }
 ],
 "metadata": {
  "kernelspec": {
   "display_name": "py312",
   "language": "python",
   "name": "python3"
  },
  "language_info": {
   "codemirror_mode": {
    "name": "ipython",
    "version": 3
   },
   "file_extension": ".py",
   "mimetype": "text/x-python",
   "name": "python",
   "nbconvert_exporter": "python",
   "pygments_lexer": "ipython3",
   "version": "3.12.4"
  }
 },
 "nbformat": 4,
 "nbformat_minor": 2
}
