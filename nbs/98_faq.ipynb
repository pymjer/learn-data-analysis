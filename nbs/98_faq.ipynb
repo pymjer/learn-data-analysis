{
 "cells": [
  {
   "cell_type": "markdown",
   "metadata": {},
   "source": [
    "# 常用函数"
   ]
  },
  {
   "cell_type": "markdown",
   "metadata": {},
   "source": [
    "## Jupyter\n",
    "* %timeit  -n 10  [i+1 for i in range(1000)] 打印执行代码的平均时间\n",
    "* %debug 调试"
   ]
  },
  {
   "cell_type": "markdown",
   "metadata": {},
   "source": [
    "## Python 常用函数\n",
    "* [urlretrieve](https://docs.python.org/3/library/urllib.request.html#urllib.request.urlretrieve) - 读取远程数据)\n",
    "* gzip.open(path_gz, 'rb') as f - 解压包\n",
    "* [islice](https://docs.python.org/3/library/itertools.html#itertools.islice) `list(islice(it, 5))`\n",
    "* map(tensor, (x_train,y_train,x_valid,y_valid)) - 映射"
   ]
  },
  {
   "cell_type": "markdown",
   "metadata": {},
   "source": [
    "## Pandas常用函数\n",
    "* 读取一块数据\n",
    "* value_counts() # 统计值出现的次数\n",
    "* unique() # 统计唯一值\n",
    "* nunique() # 统计非重复值数量\n",
    "* isna().sum() # 统计缺失值数量\n",
    "* notna().sum() # 统计非缺失值数量\n",
    "* iloc.[:rowIdx, :colIdx] # 按顺序切片\n",
    "* loc.[:row, :col] # 切片复制\n",
    "* agg() # 多列聚合\n",
    "* sort_values() # 排序\n",
    "* df_train.columns.duplicated() # 找到重复的列"
   ]
  },
  {
   "cell_type": "markdown",
   "metadata": {},
   "source": [
    "## Seaborn 常用函数"
   ]
  }
 ],
 "metadata": {
  "language_info": {
   "name": "python"
  }
 },
 "nbformat": 4,
 "nbformat_minor": 2
}
