{
 "cells": [
  {
   "cell_type": "markdown",
   "metadata": {},
   "source": [
    "# 常用函数"
   ]
  },
  {
   "cell_type": "markdown",
   "metadata": {},
   "source": [
    "## Pandas常用函数\n",
    "\n",
    "* value_counts() # 统计值出现的次数\n",
    "* unique() # 统计唯一值\n",
    "* nunique() # 统计非重复值数量\n",
    "* isna().sum() # 统计缺失值数量\n",
    "* notna().sum() # 统计非缺失值数量\n",
    "* iloc.[:rowIdx, :colIdx] # 按顺序切片\n",
    "* loc.[:row, :col] # 切片复制\n",
    "* agg() # 多列聚合\n",
    "* sort_values() # 排序"
   ]
  },
  {
   "cell_type": "markdown",
   "metadata": {},
   "source": [
    "## Seaborn 常用函数"
   ]
  }
 ],
 "metadata": {
  "language_info": {
   "name": "python"
  }
 },
 "nbformat": 4,
 "nbformat_minor": 2
}
