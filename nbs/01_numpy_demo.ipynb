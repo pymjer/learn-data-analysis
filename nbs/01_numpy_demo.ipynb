{
 "cells": [
  {
   "attachments": {},
   "cell_type": "markdown",
   "metadata": {},
   "source": [
    "# 介绍\n",
    "\n",
    "numpy教程 [User Guide](https://numpy.org/doc/stable/user/index.html) "
   ]
  },
  {
   "attachments": {},
   "cell_type": "markdown",
   "metadata": {},
   "source": [
    "# Array objects\n",
    "NumPy 提供了一个 N维的数组类型， ndarray, 用于描述相同类型的items。 "
   ]
  },
  {
   "attachments": {},
   "cell_type": "markdown",
   "metadata": {},
   "source": [
    "## The N-dimensional array(ndarray)"
   ]
  },
  {
   "cell_type": "code",
   "execution_count": 2,
   "metadata": {},
   "outputs": [
    {
     "data": {
      "text/plain": [
       "numpy.ndarray"
      ]
     },
     "execution_count": 2,
     "metadata": {},
     "output_type": "execute_result"
    }
   ],
   "source": [
    "import numpy as np\n",
    "\n",
    "x = np.array([[1, 2, 3], [4, 5, 7]], np.int32)\n",
    "type(x)"
   ]
  },
  {
   "attachments": {},
   "cell_type": "markdown",
   "metadata": {},
   "source": [
    "## Datetimes and Timedeltas\n",
    "`numpy.datetime64`和Python标准库中的`datetime`模块都是用于处理日期和时间的工具，但它们有一些不同之处。\n",
    "\n",
    "- 数据类型：`numpy.datetime64`是NumPy中专门用于处理日期和时间的数据类型，而`datetime`是Python标准库中的一个模块，提供了多种日期和时间处理的工具类和函数，包括日期、时间、时间差、时区等等。\n",
    "- 精度：`numpy.datetime64`的精度比`datetime`高，可以处理更小的时间间隔（如纳秒、微秒级别的时间间隔）。而`datetime`的精度最小只能到微秒级别。\n",
    "- 内存占用：`numpy.datetime64`的内存占用比`datetime`更小，因为它使用了固定长度的二进制格式来表示日期和时间，而`datetime`使用了Python的对象模型，需要更多的内存。\n",
    "- 运算：`numpy.datetime64`可以像数字一样进行运算，例如可以进行加减乘除、比较大小等操作，而`datetime`需要使用特定的方法来进行日期和时间的运算。\n",
    "- 兼容性：`numpy.datetime64`与NumPy的其他数据类型（如数组）可以无缝集成使用，而`datetime`需要进行转换后才能和其他数据类型一起使用。\n",
    "\n",
    "`numpy.datetime64`和`datetime`都提供了一些常用的方法来处理日期和时间，例如获取当前时间、格式化输出、计算时间差等。以下是它们的一些常用方法：\n",
    "\n",
    "- `numpy.datetime64`的常用方法：\n",
    "\n",
    "  - `numpy.datetime64('now')`：获取当前时间戳。\n",
    "  - `numpy.datetime64('2000-01-01')`：创建一个指定日期的时间戳。\n",
    "  - `numpy.datetime64('2000-01-01') + np.timedelta64(1, 'D')`：在时间戳上加上一段时间间隔。\n",
    "  - `numpy.datetime64('2000-01-01').astype('datetime64[M]')`：将时间戳转换为指定的时间差类型。\n",
    "\n",
    "- `datetime`的常用方法：\n",
    "\n",
    "  - `datetime.datetime.now()`：获取当前时间。\n",
    "  - `datetime.datetime(2000, 1, 1)`：创建一个指定日期的时间对象。\n",
    "  - `datetime.datetime(2000, 1, 1) + datetime.timedelta(days=1)`：在时间对象上加上一段时间间隔。\n",
    "  - `datetime.datetime.strftime('%Y-%m-%d')`：将时间对象格式化输出为字符串。\n",
    "\n",
    "- `Timestamp` 的常用方法：\n",
    "\n",
    "\t- pd.Timestamp('now')：获取当前时间戳。\n",
    "\t- pd.Timestamp('2000-01-01')：创建一个指定日期的时间戳。\n",
    "\t- pd.Timestamp('2000-01-01') + pd.Timedelta(days=1)：在时间戳上加上一段时间间隔。\n",
    "\t- pd.Timestamp('2000-01-01').strftime('%Y-%m-%d')：将时间戳格式化输出为字符串。\n",
    "\n",
    "需要注意的是，`numpy.datetime64`和`datetime`的方法命名和用法有些不同，需要根据具体的需求选择合适的工具。在使用这些方法时，需要注意数据类型的转换和精度的控制，以保证计算结果的正确性和可靠性。"
   ]
  },
  {
   "cell_type": "code",
   "execution_count": 3,
   "metadata": {},
   "outputs": [
    {
     "name": "stdout",
     "output_type": "stream",
     "text": [
      "2021-05-25\n"
     ]
    }
   ],
   "source": [
    "import numpy as np\n",
    "\n",
    "year = 2021\n",
    "month = 5  \n",
    "day = 25\n",
    "\n",
    "date = np.datetime64(f'{year}-{month:02}-{day:02}')\n",
    "\n",
    "print(date)\n",
    "# 2021-05-25"
   ]
  },
  {
   "attachments": {},
   "cell_type": "markdown",
   "metadata": {},
   "source": [
    "用一个整数和一个日期单位来创建datetime，时间的开始是 UNIX的开端，也就是1970年"
   ]
  },
  {
   "cell_type": "code",
   "execution_count": 5,
   "metadata": {},
   "outputs": [
    {
     "data": {
      "text/plain": [
       "numpy.datetime64('1971')"
      ]
     },
     "execution_count": 5,
     "metadata": {},
     "output_type": "execute_result"
    }
   ],
   "source": [
    "np.datetime64(1, 'Y')"
   ]
  },
  {
   "cell_type": "code",
   "execution_count": 7,
   "metadata": {},
   "outputs": [
    {
     "data": {
      "text/plain": [
       "array(['2007-07-13', '2008-08-09', '2009-09-12'], dtype='datetime64[D]')"
      ]
     },
     "execution_count": 7,
     "metadata": {},
     "output_type": "execute_result"
    }
   ],
   "source": [
    "np.array(['2007-07-13', '2008-08-09', '2009-09-12'], dtype='datetime64')"
   ]
  },
  {
   "attachments": {},
   "cell_type": "markdown",
   "metadata": {},
   "source": [
    "使用timedelta64进行时间计算"
   ]
  },
  {
   "cell_type": "code",
   "execution_count": 6,
   "metadata": {},
   "outputs": [
    {
     "data": {
      "text/plain": [
       "numpy.datetime64('2020-01-22')"
      ]
     },
     "execution_count": 6,
     "metadata": {},
     "output_type": "execute_result"
    }
   ],
   "source": [
    "np.datetime64('2020-01-02')"
   ]
  },
  {
   "cell_type": "code",
   "execution_count": 10,
   "metadata": {},
   "outputs": [
    {
     "data": {
      "text/plain": [
       "numpy.timedelta64(60,'Y')"
      ]
     },
     "execution_count": 10,
     "metadata": {},
     "output_type": "execute_result"
    }
   ],
   "source": [
    "np.timedelta64(60, 'Y')"
   ]
  },
  {
   "cell_type": "markdown",
   "metadata": {},
   "source": [
    "Pandas中支持以下单位的时间差值：\n",
    "\n",
    "- 'D'：天\n",
    "- 'h'：小时\n",
    "- 'm'：分钟\n",
    "- 's'：秒\n",
    "- 'ms'：毫秒\n",
    "- 'us'：微秒\n",
    "- 'ns'：纳秒"
   ]
  },
  {
   "cell_type": "code",
   "execution_count": 17,
   "metadata": {},
   "outputs": [
    {
     "data": {
      "text/plain": [
       "numpy.datetime64('2029-01-04')"
      ]
     },
     "execution_count": 17,
     "metadata": {},
     "output_type": "execute_result"
    }
   ],
   "source": [
    "np.datetime64('2009-01-05') + np.timedelta64(20, 'Y').astype('m8[D]')"
   ]
  },
  {
   "cell_type": "code",
   "execution_count": 19,
   "metadata": {},
   "outputs": [
    {
     "data": {
      "text/plain": [
       "numpy.datetime64('2049-04-09')"
      ]
     },
     "execution_count": 19,
     "metadata": {},
     "output_type": "execute_result"
    }
   ],
   "source": [
    "# 过60年, m8[D] 和 timedelta64[D] 意思相同\n",
    "np.datetime64('1989-04-10') + np.timedelta64(60, 'Y').astype('timedelta64[D]')"
   ]
  },
  {
   "cell_type": "code",
   "execution_count": 40,
   "metadata": {},
   "outputs": [
    {
     "data": {
      "text/plain": [
       "numpy.timedelta64(23,'Y')"
      ]
     },
     "execution_count": 40,
     "metadata": {},
     "output_type": "execute_result"
    }
   ],
   "source": [
    "# 计算年龄, > 表示向上舍入， <  表示向下舍入, 当时间差的小数部分小于0.5时，向下舍入和向上舍入的结果是一致的。但是，当时间差的小数部分大于等于0.5时，向下舍入和向上舍入的结果是不同的\n",
    "(np.datetime64('now') - np.datetime64('1999-12-15')).astype('>m8[Y]')"
   ]
  },
  {
   "cell_type": "code",
   "execution_count": 2,
   "metadata": {},
   "outputs": [
    {
     "name": "stdout",
     "output_type": "stream",
     "text": [
      "<class 'pandas._libs.tslibs.timestamps.Timestamp'>\n",
      "2079-12-17 00:00:00\n"
     ]
    }
   ],
   "source": [
    "import pandas as pd\n",
    "\n",
    "dt1 = pd.to_datetime('2020-01')\n",
    "print(type(dt1))\n",
    "# 过去60年\n",
    "dt1_pass_60_year = dt1 + pd.Timedelta('365D') * 60\n",
    "print(dt1_pass_60_year)"
   ]
  }
 ],
 "metadata": {
  "kernelspec": {
   "display_name": "base",
   "language": "python",
   "name": "python3"
  },
  "language_info": {
   "codemirror_mode": {
    "name": "ipython",
    "version": 3
   },
   "file_extension": ".py",
   "mimetype": "text/x-python",
   "name": "python",
   "nbconvert_exporter": "python",
   "pygments_lexer": "ipython3",
   "version": "3.11.4"
  },
  "orig_nbformat": 4
 },
 "nbformat": 4,
 "nbformat_minor": 2
}
