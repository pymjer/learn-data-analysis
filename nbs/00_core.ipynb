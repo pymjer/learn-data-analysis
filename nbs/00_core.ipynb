{
 "cells": [
  {
   "cell_type": "markdown",
   "metadata": {},
   "source": [
    "# Basic\n",
    "> 数据分析基础知识"
   ]
  },
  {
   "cell_type": "markdown",
   "metadata": {},
   "source": [
    "# Python"
   ]
  },
  {
   "cell_type": "markdown",
   "metadata": {},
   "source": [
    "## pathlib\n",
    "pathlib模块提供了处理文件路径和目录路径的功能，它是Python标准库中的一部分。pathlib模块以面向对象的方式提供了简洁而直观的API，用于操作文件系统中的路径。"
   ]
  },
  {
   "cell_type": "code",
   "execution_count": 1,
   "metadata": {},
   "outputs": [
    {
     "name": "stdout",
     "output_type": "stream",
     "text": [
      "文件名: hello\n",
      "父目录: test\n",
      "后缀: \n",
      "文件名（不含后缀）: hello\n",
      "路径是否存在: False\n",
      "文件内容: Hello, World!\n",
      "文件: hello\n",
      "新路径: test/new_file.txt\n",
      "目录名: \n",
      "规范化路径: /Users/hawkins/Work/Proj/learn-data-analysis/nbs/test\n",
      "文件是否存在: False\n"
     ]
    }
   ],
   "source": [
    "from pathlib import Path\n",
    "\n",
    "# 创建路径对象\n",
    "path = Path('./test/hello')\n",
    "\n",
    "# 获取路径的各个部分\n",
    "print('文件名:', path.name)          # file.txt\n",
    "print('父目录:', path.parent)        # /path/to\n",
    "print('后缀:', path.suffix)          # .txt\n",
    "print('文件名（不含后缀）:', path.stem)  # file\n",
    "\n",
    "# 判断路径是否存在\n",
    "print('路径是否存在:', path.exists())     # False\n",
    "\n",
    "# 创建目录\n",
    "path.parent.mkdir(parents=True, exist_ok=True)\n",
    "\n",
    "# 创建文件\n",
    "path.touch()\n",
    "\n",
    "# 写入文件内容\n",
    "path.write_text('Hello, World!')\n",
    "\n",
    "# 读取文件内容\n",
    "content = path.read_text()\n",
    "print('文件内容:', content)   # Hello, World!\n",
    "\n",
    "# 遍历目录中的文件\n",
    "directory = Path('./test')\n",
    "for file in directory.iterdir():\n",
    "    if file.is_file():\n",
    "        print('文件:', file.name)\n",
    "\n",
    "# 连接路径\n",
    "new_path = path.parent / 'new_file.txt'\n",
    "print('新路径:', new_path)    # /path/to/new_file.txt\n",
    "\n",
    "# 解析路径\n",
    "parsed_path = Path('./test/')\n",
    "print('目录名:', parsed_path.parent.name)   # to\n",
    "\n",
    "# 规范化路径\n",
    "normalized_path = Path('./test/')\n",
    "print('规范化路径:', normalized_path.resolve())   # /path/file.txt\n",
    "\n",
    "# 删除文件\n",
    "path.unlink()\n",
    "\n",
    "# 验证文件是否存在\n",
    "print('文件是否存在:', path.exists())  # False\n",
    "\n",
    "# 删除目录\n",
    "directory.rmdir()"
   ]
  },
  {
   "cell_type": "markdown",
   "metadata": {},
   "source": [
    "## Numpy \n",
    "Numpy教程 [User Guide](https://numpy.org/doc/stable/user/index.html) \n",
    "\n",
    "NumPy 提供了一个 N维的数组类型， ndarray, 用于描述相同类型的items。 "
   ]
  },
  {
   "cell_type": "markdown",
   "metadata": {},
   "source": [
    "### The N-dimensional array(ndarray)"
   ]
  },
  {
   "cell_type": "code",
   "execution_count": 2,
   "metadata": {},
   "outputs": [
    {
     "data": {
      "text/plain": [
       "numpy.ndarray"
      ]
     },
     "execution_count": 2,
     "metadata": {},
     "output_type": "execute_result"
    }
   ],
   "source": [
    "import numpy as np\n",
    "\n",
    "x = np.array([[1, 2, 3], [4, 5, 7]], np.int32)\n",
    "type(x)"
   ]
  },
  {
   "cell_type": "markdown",
   "metadata": {},
   "source": [
    "### `np.maximum()` \n",
    "`np.maximum()` 是 NumPy 库中的一个函数，用于比较两个数组或标量，并返回元素级别上的较大值。\n",
    "\n",
    "下面是 `np.maximum()` 的使用示例："
   ]
  },
  {
   "cell_type": "code",
   "execution_count": 3,
   "metadata": {},
   "outputs": [
    {
     "name": "stdout",
     "output_type": "stream",
     "text": [
      "5\n",
      "[2 4 3 5 5]\n"
     ]
    }
   ],
   "source": [
    "import numpy as np\n",
    "\n",
    "# 使用 np.maximum() 比较两个标量\n",
    "max_scalar = np.maximum(3, 5)\n",
    "print(max_scalar)  # 输出：5\n",
    "\n",
    "# 使用 np.maximum() 比较两个数组\n",
    "array1 = np.array([1, 2, 3, 4, 5])\n",
    "array2 = np.array([2, 4, 1, 5, 3])\n",
    "max_array = np.maximum(array1, array2)\n",
    "print(max_array)  # 输出：[2 4 3 5 5]"
   ]
  },
  {
   "cell_type": "markdown",
   "metadata": {},
   "source": [
    "\n",
    "在上述示例中，我们首先使用 `np.maximum()` 比较了两个标量，即 `3` 和 `5`。函数返回两个标量中的较大值 `5`。\n",
    "\n",
    "接下来，我们使用 `np.maximum()` 比较了两个数组 `array1` 和 `array2`。函数对应位置上的元素进行比较，并返回一个新的数组，其中包含每个位置上的较大值。在这个例子中，`max_array` 的第一个元素是 `2`（`1` 和 `2` 中的较大值），第二个元素是 `4`（`2` 和 `4` 中的较大值），以此类推。\n",
    "\n",
    "总结一下，`np.maximum()` 函数用于比较两个数组或标量，并返回一个新的数组，其中包含元素级别上的较大值。这个函数在处理数据比较和选择最大值等场景中非常有用。"
   ]
  },
  {
   "cell_type": "markdown",
   "metadata": {},
   "source": [
    "## Datetimes and Timedeltas\n",
    "`numpy.datetime64`和Python标准库中的`datetime`模块都是用于处理日期和时间的工具，但它们有一些不同之处。\n",
    "\n",
    "- 数据类型：`numpy.datetime64`是NumPy中专门用于处理日期和时间的数据类型，而`datetime`是Python标准库中的一个模块，提供了多种日期和时间处理的工具类和函数，包括日期、时间、时间差、时区等等。\n",
    "- 精度：`numpy.datetime64`的精度比`datetime`高，可以处理更小的时间间隔（如纳秒、微秒级别的时间间隔）。而`datetime`的精度最小只能到微秒级别。\n",
    "- 内存占用：`numpy.datetime64`的内存占用比`datetime`更小，因为它使用了固定长度的二进制格式来表示日期和时间，而`datetime`使用了Python的对象模型，需要更多的内存。\n",
    "- 运算：`numpy.datetime64`可以像数字一样进行运算，例如可以进行加减乘除、比较大小等操作，而`datetime`需要使用特定的方法来进行日期和时间的运算。\n",
    "- 兼容性：`numpy.datetime64`与NumPy的其他数据类型（如数组）可以无缝集成使用，而`datetime`需要进行转换后才能和其他数据类型一起使用。\n",
    "\n",
    "`numpy.datetime64`和`datetime`都提供了一些常用的方法来处理日期和时间，例如获取当前时间、格式化输出、计算时间差等。以下是它们的一些常用方法：\n",
    "\n",
    "- `numpy.datetime64`的常用方法：\n",
    "\n",
    "  - `numpy.datetime64('now')`：获取当前时间戳。\n",
    "  - `numpy.datetime64('2000-01-01')`：创建一个指定日期的时间戳。\n",
    "  - `numpy.datetime64('2000-01-01') + np.timedelta64(1, 'D')`：在时间戳上加上一段时间间隔。\n",
    "  - `numpy.datetime64('2000-01-01').astype('datetime64[M]')`：将时间戳转换为指定的时间差类型。\n",
    "\n",
    "- `datetime`的常用方法：\n",
    "\n",
    "  - `datetime.datetime.now()`：获取当前时间。\n",
    "  - `datetime.datetime(2000, 1, 1)`：创建一个指定日期的时间对象。\n",
    "  - `datetime.datetime(2000, 1, 1) + datetime.timedelta(days=1)`：在时间对象上加上一段时间间隔。\n",
    "  - `datetime.datetime.strftime('%Y-%m-%d')`：将时间对象格式化输出为字符串。\n",
    "\n",
    "- `Timestamp` 的常用方法：\n",
    "\n",
    "\t- pd.Timestamp('now')：获取当前时间戳。\n",
    "\t- pd.Timestamp('2000-01-01')：创建一个指定日期的时间戳。\n",
    "\t- pd.Timestamp('2000-01-01') + pd.Timedelta(days=1)：在时间戳上加上一段时间间隔。\n",
    "\t- pd.Timestamp('2000-01-01').strftime('%Y-%m-%d')：将时间戳格式化输出为字符串。\n",
    "\n",
    "需要注意的是，`numpy.datetime64`和`datetime`的方法命名和用法有些不同，需要根据具体的需求选择合适的工具。在使用这些方法时，需要注意数据类型的转换和精度的控制，以保证计算结果的正确性和可靠性。"
   ]
  },
  {
   "cell_type": "code",
   "execution_count": null,
   "metadata": {},
   "outputs": [
    {
     "name": "stdout",
     "output_type": "stream",
     "text": [
      "2021-05-25\n"
     ]
    }
   ],
   "source": [
    "import numpy as np\n",
    "\n",
    "year = 2021\n",
    "month = 5  \n",
    "day = 25\n",
    "\n",
    "date = np.datetime64(f'{year}-{month:02}-{day:02}')\n",
    "\n",
    "print(date)\n",
    "# 2021-05-25"
   ]
  },
  {
   "cell_type": "markdown",
   "metadata": {},
   "source": [
    "用一个整数和一个日期单位来创建datetime，时间的开始是 UNIX的开端，也就是1970年"
   ]
  },
  {
   "cell_type": "code",
   "execution_count": null,
   "metadata": {},
   "outputs": [
    {
     "data": {
      "text/plain": [
       "numpy.datetime64('1971')"
      ]
     },
     "metadata": {},
     "output_type": "display_data"
    }
   ],
   "source": [
    "np.datetime64(1, 'Y')"
   ]
  },
  {
   "cell_type": "code",
   "execution_count": null,
   "metadata": {},
   "outputs": [
    {
     "data": {
      "text/plain": [
       "array(['2007-07-13', '2008-08-09', '2009-09-12'], dtype='datetime64[D]')"
      ]
     },
     "metadata": {},
     "output_type": "display_data"
    }
   ],
   "source": [
    "np.array(['2007-07-13', '2008-08-09', '2009-09-12'], dtype='datetime64')"
   ]
  },
  {
   "cell_type": "markdown",
   "metadata": {},
   "source": [
    "使用timedelta64进行时间计算"
   ]
  },
  {
   "cell_type": "code",
   "execution_count": null,
   "metadata": {},
   "outputs": [
    {
     "data": {
      "text/plain": [
       "numpy.datetime64('2020-01-22')"
      ]
     },
     "metadata": {},
     "output_type": "display_data"
    }
   ],
   "source": [
    "np.datetime64('2020-01-02')"
   ]
  },
  {
   "cell_type": "code",
   "execution_count": null,
   "metadata": {},
   "outputs": [
    {
     "data": {
      "text/plain": [
       "numpy.timedelta64(60,'Y')"
      ]
     },
     "metadata": {},
     "output_type": "display_data"
    }
   ],
   "source": [
    "np.timedelta64(60, 'Y')"
   ]
  },
  {
   "cell_type": "markdown",
   "metadata": {},
   "source": [
    "Pandas中支持以下单位的时间差值：\n",
    "\n",
    "- 'D'：天\n",
    "- 'h'：小时\n",
    "- 'm'：分钟\n",
    "- 's'：秒\n",
    "- 'ms'：毫秒\n",
    "- 'us'：微秒\n",
    "- 'ns'：纳秒"
   ]
  },
  {
   "cell_type": "code",
   "execution_count": null,
   "metadata": {},
   "outputs": [
    {
     "data": {
      "text/plain": [
       "numpy.datetime64('2029-01-04')"
      ]
     },
     "metadata": {},
     "output_type": "display_data"
    }
   ],
   "source": [
    "np.datetime64('2009-01-05') + np.timedelta64(20, 'Y').astype('m8[D]')"
   ]
  },
  {
   "cell_type": "code",
   "execution_count": null,
   "metadata": {},
   "outputs": [
    {
     "data": {
      "text/plain": [
       "numpy.datetime64('2049-04-09')"
      ]
     },
     "metadata": {},
     "output_type": "display_data"
    }
   ],
   "source": [
    "# 过60年, m8[D] 和 timedelta64[D] 意思相同\n",
    "np.datetime64('1989-04-10') + np.timedelta64(60, 'Y').astype('timedelta64[D]')"
   ]
  },
  {
   "cell_type": "code",
   "execution_count": null,
   "metadata": {},
   "outputs": [
    {
     "data": {
      "text/plain": [
       "numpy.timedelta64(23,'Y')"
      ]
     },
     "metadata": {},
     "output_type": "display_data"
    }
   ],
   "source": [
    "# 计算年龄, > 表示向上舍入， <  表示向下舍入, 当时间差的小数部分小于0.5时，向下舍入和向上舍入的结果是一致的。但是，当时间差的小数部分大于等于0.5时，向下舍入和向上舍入的结果是不同的\n",
    "(np.datetime64('now') - np.datetime64('1999-12-15')).astype('>m8[Y]')"
   ]
  },
  {
   "cell_type": "code",
   "execution_count": null,
   "metadata": {},
   "outputs": [
    {
     "name": "stdout",
     "output_type": "stream",
     "text": [
      "<class 'pandas._libs.tslibs.timestamps.Timestamp'>\n",
      "2079-12-17 00:00:00\n"
     ]
    }
   ],
   "source": [
    "import pandas as pd\n",
    "\n",
    "dt1 = pd.to_datetime('2020-01')\n",
    "print(type(dt1))\n",
    "# 过去60年\n",
    "dt1_pass_60_year = dt1 + pd.Timedelta('365D') * 60\n",
    "print(dt1_pass_60_year)"
   ]
  },
  {
   "cell_type": "markdown",
   "metadata": {},
   "source": [
    "## joblib \n",
    "joblib 是一个用于高效处理 Python 对象持久化和并行计算的库。joblib 提供了 Parallel 和 delayed 对象，用于简化并行计算任务的编写和执行。\n",
    "\n",
    "Parallel 对象用于并行执行多个函数调用，而 delayed 对象用于将函数调用延迟执行。\n",
    "\n",
    "下面是一个示例，展示如何使用 Parallel 和 delayed 对象进行并行计算："
   ]
  },
  {
   "cell_type": "markdown",
   "metadata": {},
   "source": [
    "```\n",
    "from joblib import Parallel, delayed\n",
    "\n",
    "def square(x):\n",
    "    return x**2\n",
    "\n",
    "data = [1,2,3,4,5]\n",
    "\n",
    "results = Parallel(-1)(delayed(square)(x) for x in data)\n",
    "\n",
    "print(results)\n",
    "```"
   ]
  }
 ],
 "metadata": {
  "kernelspec": {
   "display_name": "py312",
   "language": "python",
   "name": "python3"
  },
  "language_info": {
   "codemirror_mode": {
    "name": "ipython",
    "version": 3
   },
   "file_extension": ".py",
   "mimetype": "text/x-python",
   "name": "python",
   "nbconvert_exporter": "python",
   "pygments_lexer": "ipython3",
   "version": "3.12.4"
  }
 },
 "nbformat": 4,
 "nbformat_minor": 2
}
