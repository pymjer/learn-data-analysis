{
 "cells": [
  {
   "cell_type": "markdown",
   "metadata": {},
   "source": [
    "# Numpy\n",
    "> Python NumPy（Numerical Python）是一个开源的数值计算库，用于快速处理大型多维数组和矩阵数据。"
   ]
  },
  {
   "cell_type": "markdown",
   "metadata": {},
   "source": [
    "\n",
    "## Introduction\n",
    "Numpy提供了丰富的数学函数和方法，可以进行各种数值计算，如线性代数、傅立叶变换、随机数生成等。NumPy是Python科学计算的基础库之一，许多其他科学计算库都依赖于它。\n",
    "NumPy最重要的特点之一是它引入了多维数组对象（称为ndarray），可以轻松地对数组进行操作和运算，提高了计算效率。NumPy还提供了广播（broadcasting）功能，可以对不同维度的数组进行运算，使得代码更加简洁和高效。\n",
    "\n",
    "除了数组操作，NumPy还包含了许多常用的数学函数，如求和、平均值、标准差等，以及数组操作函数，如切片、索引、排序等。通过结合NumPy和其他科学计算库（如SciPy、Matplotlib等），可以进行高效的数据分析、科学计算和可视化工作。总之，NumPy是Python中重要的数据处理和科学计算工具之一，为数据科学家和工程师提供了强大的功能和性能。"
   ]
  },
  {
   "cell_type": "markdown",
   "metadata": {},
   "source": [
    "## np.column_stack\n",
    "`np.column_stack`是NumPy库中的一个函数，用于按列堆叠数组。它将一系列一维数组按列方向进行堆叠，生成一个新的二维数组。这在处理多个一维数据集时非常有用，可以将它们组合成一个更大的二维数据集，便于进行后续的数据处理和分析。\n",
    "\n",
    "以下是`np.column_stack`方法的作用和示例说明："
   ]
  },
  {
   "cell_type": "code",
   "execution_count": 4,
   "metadata": {},
   "outputs": [
    {
     "name": "stdout",
     "output_type": "stream",
     "text": [
      "[[1 4]\n",
      " [2 5]\n",
      " [3 6]]\n"
     ]
    }
   ],
   "source": [
    "import numpy as np\n",
    "\n",
    "arr1 = np.array([1,2,3])\n",
    "arr2 = np.array([4,5,6])\n",
    "\n",
    "result = np.column_stack([arr1, arr2])\n",
    "\n",
    "print(result)"
   ]
  }
 ],
 "metadata": {
  "kernelspec": {
   "display_name": "ai",
   "language": "python",
   "name": "python3"
  },
  "language_info": {
   "codemirror_mode": {
    "name": "ipython",
    "version": 3
   },
   "file_extension": ".py",
   "mimetype": "text/x-python",
   "name": "python",
   "nbconvert_exporter": "python",
   "pygments_lexer": "ipython3",
   "version": "3.10.13"
  }
 },
 "nbformat": 4,
 "nbformat_minor": 2
}
