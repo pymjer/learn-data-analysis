{
 "cells": [
  {
   "cell_type": "markdown",
   "metadata": {},
   "source": [
    "# Numpy\n",
    "> Python NumPy（Numerical Python）是一个开源的数值计算库，用于快速处理大型多维数组和矩阵数据。"
   ]
  },
  {
   "cell_type": "markdown",
   "metadata": {},
   "source": [
    "\n",
    "## Introduction\n",
    "Numpy提供了丰富的数学函数和方法，可以进行各种数值计算，如线性代数、傅立叶变换、随机数生成等。NumPy是Python科学计算的基础库之一，许多其他科学计算库都依赖于它。\n",
    "NumPy最重要的特点之一是它引入了多维数组对象（称为ndarray），可以轻松地对数组进行操作和运算，提高了计算效率。NumPy还提供了广播（broadcasting）功能，可以对不同维度的数组进行运算，使得代码更加简洁和高效。\n",
    "\n",
    "除了数组操作，NumPy还包含了许多常用的数学函数，如求和、平均值、标准差等，以及数组操作函数，如切片、索引、排序等。通过结合NumPy和其他科学计算库（如SciPy、Matplotlib等），可以进行高效的数据分析、科学计算和可视化工作。总之，NumPy是Python中重要的数据处理和科学计算工具之一，为数据科学家和工程师提供了强大的功能和性能。"
   ]
  },
  {
   "cell_type": "markdown",
   "metadata": {},
   "source": [
    "## 数据集中度分析\n",
    "数据集中度分析主要包括平均值、中位数、众数"
   ]
  },
  {
   "cell_type": "code",
   "execution_count": 8,
   "metadata": {},
   "outputs": [
    {
     "name": "stdout",
     "output_type": "stream",
     "text": [
      "117.8\n",
      "34.0\n",
      "78\n"
     ]
    }
   ],
   "source": [
    "import numpy as np\n",
    "from scipy import stats\n",
    "\n",
    "arr1 = np.array([2,3,5,23,12,34,78,19,78,29,78,192,596,123,495])\n",
    "\n",
    "# 平均数\n",
    "print(arr1.mean())\n",
    "\n",
    "# 中位数\n",
    "print(np.median(arr1))\n",
    "\n",
    "# 众数\n",
    "# 计算众数\n",
    "mode_result = stats.mode(arr1)\n",
    "print(mode_result.mode)"
   ]
  },
  {
   "cell_type": "markdown",
   "metadata": {},
   "source": [
    "## 数据离散程度分析\n",
    "数据离散程度分析主要包括数据方差、标准差、离散系数"
   ]
  },
  {
   "cell_type": "code",
   "execution_count": 9,
   "metadata": {},
   "outputs": [
    {
     "name": "stdout",
     "output_type": "stream",
     "text": [
      "方差: 31026.82666666666, 标准差: 176.14433475609331, 离散系数: 1.4952829775559704\n"
     ]
    }
   ],
   "source": [
    "# 方差\n",
    "variance_amount = np.var(arr1)\n",
    "# 标准差\n",
    "std_dev_amount = np.std(arr1)\n",
    "# 离散系数\n",
    "cv_amount = std_dev_amount / np.mean(arr1)\n",
    "\n",
    "print(f\"方差: {variance_amount}, 标准差: {std_dev_amount}, 离散系数: {cv_amount}\")\n"
   ]
  },
  {
   "cell_type": "markdown",
   "metadata": {},
   "source": [
    "## 数据分布形态\n",
    "数据分布形态主要是判断数据是否左偏、右偏，使用的指标主要是标准分数（也称为Z-score）"
   ]
  },
  {
   "cell_type": "code",
   "execution_count": 11,
   "metadata": {},
   "outputs": [
    {
     "name": "stdout",
     "output_type": "stream",
     "text": [
      "[-0.65741541 -0.65173825 -0.64038392 -0.538195   -0.60064379 -0.47574621\n",
      " -0.22595106 -0.56090365 -0.22595106 -0.50413202 -0.22595106  0.42124545\n",
      "  2.71481908  0.02952124  2.14142567]\n",
      "左偏: False, 右偏: True\n"
     ]
    }
   ],
   "source": [
    "# 计算 Z-score\n",
    "mean_amount = np.mean(arr1)\n",
    "z_scores = (arr1 - mean_amount) / std_dev_amount\n",
    "print(z_scores)\n",
    "\n",
    "# 判断偏态\n",
    "left_skewed = (z_scores[z_scores < -1].size > z_scores[z_scores > 1].size)\n",
    "right_skewed = (z_scores[z_scores > 1].size > z_scores[z_scores < -1].size)\n",
    "\n",
    "print(f\"左偏: {left_skewed}, 右偏: {right_skewed}\")\n"
   ]
  },
  {
   "cell_type": "markdown",
   "metadata": {},
   "source": [
    "## 数据相关性\n",
    "判断数据之间是否有相关性，是正相关还是负相关，相关性有多大，使用 Peirson 系数"
   ]
  },
  {
   "cell_type": "markdown",
   "metadata": {},
   "source": [
    "## np.column_stack\n",
    "`np.column_stack`是NumPy库中的一个函数，用于按列堆叠数组。它将一系列一维数组按列方向进行堆叠，生成一个新的二维数组。这在处理多个一维数据集时非常有用，可以将它们组合成一个更大的二维数据集，便于进行后续的数据处理和分析。\n",
    "\n",
    "以下是`np.column_stack`方法的作用和示例说明："
   ]
  },
  {
   "cell_type": "code",
   "execution_count": 4,
   "metadata": {},
   "outputs": [
    {
     "name": "stdout",
     "output_type": "stream",
     "text": [
      "[[1 4]\n",
      " [2 5]\n",
      " [3 6]]\n"
     ]
    }
   ],
   "source": [
    "import numpy as np\n",
    "\n",
    "arr1 = np.array([1,2,3])\n",
    "arr2 = np.array([4,5,6])\n",
    "\n",
    "result = np.column_stack([arr1, arr2])\n",
    "\n",
    "print(result)"
   ]
  }
 ],
 "metadata": {
  "kernelspec": {
   "display_name": "py312",
   "language": "python",
   "name": "python3"
  },
  "language_info": {
   "codemirror_mode": {
    "name": "ipython",
    "version": 3
   },
   "file_extension": ".py",
   "mimetype": "text/x-python",
   "name": "python",
   "nbconvert_exporter": "python",
   "pygments_lexer": "ipython3",
   "version": "3.12.4"
  }
 },
 "nbformat": 4,
 "nbformat_minor": 2
}
