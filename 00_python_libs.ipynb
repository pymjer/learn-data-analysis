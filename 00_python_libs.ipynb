{
 "cells": [
  {
   "cell_type": "markdown",
   "metadata": {},
   "source": [
    "# 多线程"
   ]
  },
  {
   "cell_type": "markdown",
   "metadata": {},
   "source": [
    "## joblib \n",
    "joblib 是一个用于高效处理 Python 对象持久化和并行计算的库。joblib 提供了 Parallel 和 delayed 对象，用于简化并行计算任务的编写和执行。\n",
    "\n",
    "Parallel 对象用于并行执行多个函数调用，而 delayed 对象用于将函数调用延迟执行。\n",
    "\n",
    "下面是一个示例，展示如何使用 Parallel 和 delayed 对象进行并行计算："
   ]
  },
  {
   "cell_type": "code",
   "execution_count": 25,
   "metadata": {},
   "outputs": [
    {
     "name": "stdout",
     "output_type": "stream",
     "text": [
      "[1, 4, 9, 16, 25]\n"
     ]
    }
   ],
   "source": [
    "from joblib import Parallel, delayed\n",
    "\n",
    "def square(x):\n",
    "    return x**2\n",
    "\n",
    "data = [1,2,3,4,5]\n",
    "\n",
    "results = Parallel(-1)(delayed(square)(x) for x in data)\n",
    "\n",
    "print(results)"
   ]
  },
  {
   "cell_type": "markdown",
   "metadata": {},
   "source": [
    "# Numpy 函数"
   ]
  },
  {
   "cell_type": "markdown",
   "metadata": {},
   "source": [
    "## `np.maximum()` \n",
    "`np.maximum()` 是 NumPy 库中的一个函数，用于比较两个数组或标量，并返回元素级别上的较大值。\n",
    "\n",
    "下面是 `np.maximum()` 的使用示例："
   ]
  },
  {
   "cell_type": "code",
   "execution_count": 4,
   "metadata": {},
   "outputs": [
    {
     "name": "stdout",
     "output_type": "stream",
     "text": [
      "5\n",
      "[2 4 3 5 5]\n"
     ]
    }
   ],
   "source": [
    "import numpy as np\n",
    "\n",
    "# 使用 np.maximum() 比较两个标量\n",
    "max_scalar = np.maximum(3, 5)\n",
    "print(max_scalar)  # 输出：5\n",
    "\n",
    "# 使用 np.maximum() 比较两个数组\n",
    "array1 = np.array([1, 2, 3, 4, 5])\n",
    "array2 = np.array([2, 4, 1, 5, 3])\n",
    "max_array = np.maximum(array1, array2)\n",
    "print(max_array)  # 输出：[2 4 3 5 5]"
   ]
  },
  {
   "cell_type": "markdown",
   "metadata": {},
   "source": [
    "\n",
    "在上述示例中，我们首先使用 `np.maximum()` 比较了两个标量，即 `3` 和 `5`。函数返回两个标量中的较大值 `5`。\n",
    "\n",
    "接下来，我们使用 `np.maximum()` 比较了两个数组 `array1` 和 `array2`。函数对应位置上的元素进行比较，并返回一个新的数组，其中包含每个位置上的较大值。在这个例子中，`max_array` 的第一个元素是 `2`（`1` 和 `2` 中的较大值），第二个元素是 `4`（`2` 和 `4` 中的较大值），以此类推。\n",
    "\n",
    "总结一下，`np.maximum()` 函数用于比较两个数组或标量，并返回一个新的数组，其中包含元素级别上的较大值。这个函数在处理数据比较和选择最大值等场景中非常有用。"
   ]
  }
 ],
 "metadata": {
  "kernelspec": {
   "display_name": "ai3",
   "language": "python",
   "name": "python3"
  },
  "language_info": {
   "codemirror_mode": {
    "name": "ipython",
    "version": 3
   },
   "file_extension": ".py",
   "mimetype": "text/x-python",
   "name": "python",
   "nbconvert_exporter": "python",
   "pygments_lexer": "ipython3",
   "version": "3.11.4"
  },
  "orig_nbformat": 4
 },
 "nbformat": 4,
 "nbformat_minor": 2
}
