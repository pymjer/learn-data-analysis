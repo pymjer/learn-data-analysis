{
 "cells": [
  {
   "cell_type": "code",
   "execution_count": 65,
   "metadata": {},
   "outputs": [
    {
     "name": "stdout",
     "output_type": "stream",
     "text": [
      "Hiragino Sans GB\n"
     ]
    }
   ],
   "source": [
    "import pandas as pd\n",
    "import seaborn as sns\n",
    "import matplotlib.pyplot as plt\n",
    "from matplotlib.font_manager import FontProperties\n",
    "from datetime import datetime as dt\n",
    "\n",
    "import warnings\n",
    "warnings.filterwarnings('ignore')\n",
    "\n",
    "font_path = '/System/Library/Fonts/Hiragino Sans GB.ttc' # 系统的中文字体，这是mac实现，如果是Window需要切换目录\n",
    "myfont = FontProperties(fname=font_path)\n",
    "print(myfont.get_name())\n",
    "sns.set(font=myfont.get_name())"
   ]
  },
  {
   "attachments": {},
   "cell_type": "markdown",
   "metadata": {},
   "source": [
    "## 数据导入"
   ]
  },
  {
   "cell_type": "code",
   "execution_count": 31,
   "metadata": {},
   "outputs": [
    {
     "data": {
      "text/html": [
       "<div>\n",
       "<style scoped>\n",
       "    .dataframe tbody tr th:only-of-type {\n",
       "        vertical-align: middle;\n",
       "    }\n",
       "\n",
       "    .dataframe tbody tr th {\n",
       "        vertical-align: top;\n",
       "    }\n",
       "\n",
       "    .dataframe thead th {\n",
       "        text-align: right;\n",
       "    }\n",
       "</style>\n",
       "<table border=\"1\" class=\"dataframe\">\n",
       "  <thead>\n",
       "    <tr style=\"text-align: right;\">\n",
       "      <th></th>\n",
       "      <th>name</th>\n",
       "      <th>job</th>\n",
       "      <th>birth_date</th>\n",
       "      <th>entry_date</th>\n",
       "      <th>last_promotion_date</th>\n",
       "    </tr>\n",
       "  </thead>\n",
       "  <tbody>\n",
       "    <tr>\n",
       "      <th>0</th>\n",
       "      <td>平刚</td>\n",
       "      <td>处长</td>\n",
       "      <td>1983-01-08</td>\n",
       "      <td>2009-11-17</td>\n",
       "      <td>2014-05-06</td>\n",
       "    </tr>\n",
       "    <tr>\n",
       "      <th>1</th>\n",
       "      <td>费伟</td>\n",
       "      <td>处长</td>\n",
       "      <td>1984-03-16</td>\n",
       "      <td>2005-12-08</td>\n",
       "      <td>2017-12-02</td>\n",
       "    </tr>\n",
       "    <tr>\n",
       "      <th>2</th>\n",
       "      <td>殷峰</td>\n",
       "      <td>处长</td>\n",
       "      <td>1990-10-27</td>\n",
       "      <td>2016-07-19</td>\n",
       "      <td>2021-01-19</td>\n",
       "    </tr>\n",
       "    <tr>\n",
       "      <th>3</th>\n",
       "      <td>葛健</td>\n",
       "      <td>副处长</td>\n",
       "      <td>1955-09-28</td>\n",
       "      <td>2013-01-19</td>\n",
       "      <td>2020-08-29</td>\n",
       "    </tr>\n",
       "    <tr>\n",
       "      <th>4</th>\n",
       "      <td>冯强</td>\n",
       "      <td>二级科员</td>\n",
       "      <td>1979-06-29</td>\n",
       "      <td>2018-03-05</td>\n",
       "      <td>2020-07-02</td>\n",
       "    </tr>\n",
       "  </tbody>\n",
       "</table>\n",
       "</div>"
      ],
      "text/plain": [
       "  name   job  birth_date  entry_date last_promotion_date\n",
       "0   平刚    处长  1983-01-08  2009-11-17          2014-05-06\n",
       "1   费伟    处长  1984-03-16  2005-12-08          2017-12-02\n",
       "2   殷峰    处长  1990-10-27  2016-07-19          2021-01-19\n",
       "3   葛健   副处长  1955-09-28  2013-01-19          2020-08-29\n",
       "4   冯强  二级科员  1979-06-29  2018-03-05          2020-07-02"
      ]
     },
     "execution_count": 31,
     "metadata": {},
     "output_type": "execute_result"
    }
   ],
   "source": [
    "# 从csv导入数据\n",
    "df = pd.read_csv('../input/member-list/stuff.csv')\n",
    "df.head()"
   ]
  },
  {
   "attachments": {},
   "cell_type": "markdown",
   "metadata": {},
   "source": [
    "## 数据处理"
   ]
  },
  {
   "cell_type": "code",
   "execution_count": 37,
   "metadata": {},
   "outputs": [
    {
     "name": "stderr",
     "output_type": "stream",
     "text": [
      "/Users/hawkins/opt/anaconda3/lib/python3.9/site-packages/IPython/core/interactiveshell.py:3457: FutureWarning: Units 'M', 'Y' and 'y' do not represent unambiguous timedelta values and will be removed in a future version.\n",
      "  exec(code_obj, self.user_global_ns, self.user_ns)\n"
     ]
    },
    {
     "data": {
      "text/html": [
       "<div>\n",
       "<style scoped>\n",
       "    .dataframe tbody tr th:only-of-type {\n",
       "        vertical-align: middle;\n",
       "    }\n",
       "\n",
       "    .dataframe tbody tr th {\n",
       "        vertical-align: top;\n",
       "    }\n",
       "\n",
       "    .dataframe thead th {\n",
       "        text-align: right;\n",
       "    }\n",
       "</style>\n",
       "<table border=\"1\" class=\"dataframe\">\n",
       "  <thead>\n",
       "    <tr style=\"text-align: right;\">\n",
       "      <th></th>\n",
       "      <th>name</th>\n",
       "      <th>job</th>\n",
       "      <th>birth_date</th>\n",
       "      <th>entry_date</th>\n",
       "      <th>last_promotion_date</th>\n",
       "      <th>age</th>\n",
       "      <th>retired_date</th>\n",
       "    </tr>\n",
       "  </thead>\n",
       "  <tbody>\n",
       "    <tr>\n",
       "      <th>0</th>\n",
       "      <td>平刚</td>\n",
       "      <td>处长</td>\n",
       "      <td>1983-01-08</td>\n",
       "      <td>2009-11-17</td>\n",
       "      <td>2014-05-06</td>\n",
       "      <td>40.0</td>\n",
       "      <td>2043-01-07</td>\n",
       "    </tr>\n",
       "    <tr>\n",
       "      <th>1</th>\n",
       "      <td>费伟</td>\n",
       "      <td>处长</td>\n",
       "      <td>1984-03-16</td>\n",
       "      <td>2005-12-08</td>\n",
       "      <td>2017-12-02</td>\n",
       "      <td>39.0</td>\n",
       "      <td>2044-03-15</td>\n",
       "    </tr>\n",
       "    <tr>\n",
       "      <th>2</th>\n",
       "      <td>殷峰</td>\n",
       "      <td>处长</td>\n",
       "      <td>1990-10-27</td>\n",
       "      <td>2016-07-19</td>\n",
       "      <td>2021-01-19</td>\n",
       "      <td>32.0</td>\n",
       "      <td>2050-10-26</td>\n",
       "    </tr>\n",
       "    <tr>\n",
       "      <th>3</th>\n",
       "      <td>葛健</td>\n",
       "      <td>副处长</td>\n",
       "      <td>1955-09-28</td>\n",
       "      <td>2013-01-19</td>\n",
       "      <td>2020-08-29</td>\n",
       "      <td>67.0</td>\n",
       "      <td>2015-09-27</td>\n",
       "    </tr>\n",
       "    <tr>\n",
       "      <th>4</th>\n",
       "      <td>冯强</td>\n",
       "      <td>二级科员</td>\n",
       "      <td>1979-06-29</td>\n",
       "      <td>2018-03-05</td>\n",
       "      <td>2020-07-02</td>\n",
       "      <td>43.0</td>\n",
       "      <td>2039-06-28</td>\n",
       "    </tr>\n",
       "  </tbody>\n",
       "</table>\n",
       "</div>"
      ],
      "text/plain": [
       "  name   job birth_date entry_date last_promotion_date   age retired_date\n",
       "0   平刚    处长 1983-01-08 2009-11-17          2014-05-06  40.0   2043-01-07\n",
       "1   费伟    处长 1984-03-16 2005-12-08          2017-12-02  39.0   2044-03-15\n",
       "2   殷峰    处长 1990-10-27 2016-07-19          2021-01-19  32.0   2050-10-26\n",
       "3   葛健   副处长 1955-09-28 2013-01-19          2020-08-29  67.0   2015-09-27\n",
       "4   冯强  二级科员 1979-06-29 2018-03-05          2020-07-02  43.0   2039-06-28"
      ]
     },
     "execution_count": 37,
     "metadata": {},
     "output_type": "execute_result"
    }
   ],
   "source": [
    "# 数据处理，将日期列转换为 datetime 类型\n",
    "df['birth_date']=pd.to_datetime(df['birth_date'])\n",
    "df['entry_date']=pd.to_datetime(df['entry_date'])\n",
    "df['last_promotion_date']=pd.to_datetime(df['last_promotion_date'])\n",
    "\n",
    "# 添加退休时间, 出生日期加上60年\n",
    "df['retired_date'] = df['birth_date'] + pd.Timedelta('60Y').floor('D')\n",
    "\n",
    "df['age'] = (dt.now() - df['birth_date']).astype('<m8[Y]')\n",
    "df.head()"
   ]
  },
  {
   "attachments": {},
   "cell_type": "markdown",
   "metadata": {},
   "source": [
    "## 累计退休人数和当年退休人数\n",
    "为了计算累计退休人数和当年退休人数，我们需要知道退休年龄规定。假设退休年龄为 60 岁，可以计算员工的当前年龄，然后找出达到退休年龄的员工。"
   ]
  },
  {
   "cell_type": "code",
   "execution_count": 33,
   "metadata": {},
   "outputs": [
    {
     "name": "stdout",
     "output_type": "stream",
     "text": [
      "累计退休人数：91\n",
      "当年退休人数：3\n"
     ]
    }
   ],
   "source": [
    "# 筛选已退休员工\n",
    "retired_employees = df[df['age']>=60]\n",
    "\n",
    "# 计算累计退休人数\n",
    "total_retired = len(retired_employees)\n",
    "\n",
    "# 计算当年退休人数\n",
    "current_year_retirees = retired_employees[dt.now().year - retired_employees['birth_date'].dt.year == 60]\n",
    "\n",
    "print(f'累计退休人数：{total_retired}')\n",
    "print(f'当年退休人数：{len(current_year_retirees)}')"
   ]
  },
  {
   "attachments": {},
   "cell_type": "markdown",
   "metadata": {},
   "source": [
    "## 某年某月本单位各职级人员年龄分布情况\n",
    "可以使用 Seaborn 的 boxplot 或 violinplot 函数来展示各职级人员年龄分布情况。"
   ]
  },
  {
   "cell_type": "code",
   "execution_count": 66,
   "metadata": {},
   "outputs": [
    {
     "data": {
      "image/png": "[encoded data removed]",
      "text/plain": [
       "<Figure size 1000x500 with 1 Axes>"
      ]
     },
     "metadata": {},
     "output_type": "display_data"
    }
   ],
   "source": [
    "# 选择某年某月的数据\n",
    "year_month = '1990-05'\n",
    "# 在选择的时间，只要人员已经进入部门，且当时没有退休就包含\n",
    "selected_year_month = df[(df['entry_date'].dt.to_period('M') <= pd.to_datetime(year_month).to_period('M')) & (df['retired_date'] > pd.to_datetime(year_month))]\n",
    "selected_year_month['year_month_age'] = pd.to_datetime(year_month).floor('D') - df['birth_date']\n",
    "selected_year_month.head(500)\n",
    "\n",
    "# 绘制箱形图\n",
    "plt.figure(figsize=(10, 5))\n",
    "sns.boxplot(data=selected_year_month, x='job', y='age')\n",
    "plt.title(f'{year_month} 各职级人员年龄分布情况')\n",
    "plt.show()"
   ]
  },
  {
   "attachments": {},
   "cell_type": "markdown",
   "metadata": {},
   "source": [
    "## 满足晋升上一级别人员情况\n",
    "先计算距离上次晋升的时间，然后找出时间大于2年的员工"
   ]
  },
  {
   "cell_type": "code",
   "execution_count": 67,
   "metadata": {},
   "outputs": [
    {
     "name": "stdout",
     "output_type": "stream",
     "text": [
      "满足晋升上一级别人员情况:\n",
      "    name   job  years_since_last_promotion\n",
      "0     平刚    处长                         9.0\n",
      "1     费伟    处长                         5.0\n",
      "5     戚刚  三级科员                         8.0\n",
      "8     项勇    处长                        11.0\n",
      "10    梁军  四级科员                        15.0\n",
      "..   ...   ...                         ...\n",
      "491   皮军  四级科员                        14.0\n",
      "495   周俊  一级科员                         4.0\n",
      "497   姜俊  二级科员                         7.0\n",
      "498   何强  三级科员                         9.0\n",
      "499   任强  一级科员                         3.0\n",
      "\n",
      "[288 rows x 3 columns]\n"
     ]
    }
   ],
   "source": [
    "# 计算距离上次晋升的时间（单位：年）\n",
    "df['years_since_last_promotion'] = (dt.now() - df['last_promotion_date']).astype('<m8[Y]')\n",
    "\n",
    "# 筛选满足晋升条件的员工\n",
    "eligible_for_promotion = df[df['years_since_last_promotion'] > 2]\n",
    "\n",
    "print('满足晋升上一级别人员情况:')\n",
    "print(eligible_for_promotion[['name', 'job', 'years_since_last_promotion']])"
   ]
  }
 ],
 "metadata": {
  "kernelspec": {
   "display_name": "base",
   "language": "python",
   "name": "python3"
  },
  "language_info": {
   "codemirror_mode": {
    "name": "ipython",
    "version": 3
   },
   "file_extension": ".py",
   "mimetype": "text/x-python",
   "name": "python",
   "nbconvert_exporter": "python",
   "pygments_lexer": "ipython3",
   "version": "3.9.13"
  },
  "orig_nbformat": 4
 },
 "nbformat": 4,
 "nbformat_minor": 2
}
