{
 "cells": [
  {
   "cell_type": "code",
   "execution_count": 4,
   "metadata": {},
   "outputs": [
    {
     "data": {
      "text/plain": [
       "'random_numbers.csv'"
      ]
     },
     "execution_count": 4,
     "metadata": {},
     "output_type": "execute_result"
    }
   ],
   "source": [
    "import csv\n",
    "import random\n",
    "\n",
    "# Function to generate random numbers between 0.04 and 0.1\n",
    "def generate_random_numbers(num_rows, num_columns, lower_bound, upper_bound):\n",
    "    return [[round(random.uniform(lower_bound, upper_bound), 2) for _ in range(num_columns)] for _ in range(num_rows)]\n",
    "\n",
    "# Parameters\n",
    "num_rows = 400\n",
    "num_columns = 1\n",
    "lower_bound = 0.06\n",
    "upper_bound = 0.3\n",
    "output_file = 'random_numbers.csv'\n",
    "\n",
    "# Generate random data\n",
    "data = generate_random_numbers(num_rows, num_columns, lower_bound, upper_bound)\n",
    "\n",
    "# Write to CSV\n",
    "with open(output_file, mode='w', newline='') as file:\n",
    "    writer = csv.writer(file)\n",
    "    writer.writerow([f'Column_{i+1}' for i in range(num_columns)])  # Write header\n",
    "    writer.writerows(data)\n",
    "\n",
    "output_file  # Return the path to the generated CSV file\n"
   ]
  },
  {
   "cell_type": "code",
   "execution_count": 1,
   "metadata": {},
   "outputs": [
    {
     "name": "stdout",
     "output_type": "stream",
     "text": [
      "Data saved to customer_data.csv\n",
      "Data saved to product_data.csv\n",
      "Data saved to order_data.csv\n"
     ]
    }
   ],
   "source": [
    "import pandas as pd\n",
    "import random\n",
    "from datetime import datetime, timedelta\n",
    "\n",
    "# 设置随机种子，确保结果可复现\n",
    "random.seed(42)\n",
    "\n",
    "# 生成 customer_data 表\n",
    "def generate_customers(num_customers=100):\n",
    "    customers = []\n",
    "    regions = ['North', 'South', 'East', 'West']\n",
    "    \n",
    "    for customer_id in range(1, num_customers + 1):\n",
    "        name = f\"Customer_{customer_id}\"\n",
    "        age = random.randint(18, 65)\n",
    "        region = random.choice(regions)\n",
    "        customers.append([customer_id, name, age, region])\n",
    "    \n",
    "    return pd.DataFrame(customers, columns=['customer_id', 'name', 'age', 'region'])\n",
    "\n",
    "# 生成 product_data 表\n",
    "def generate_products(num_products=50):\n",
    "    products = []\n",
    "    categories = ['Electronics', 'Clothing', 'Books', 'Home']\n",
    "    \n",
    "    for product_id in range(1, num_products + 1):\n",
    "        name = f\"Product_{product_id}\"\n",
    "        category = random.choice(categories)\n",
    "        price = round(random.uniform(10, 1000), 2)\n",
    "        products.append([product_id, name, category, price])\n",
    "    \n",
    "    return pd.DataFrame(products, columns=['product_id', 'name', 'category', 'price'])\n",
    "\n",
    "# 生成 order_data 表\n",
    "def generate_orders(num_orders=500, customers=None, products=None):\n",
    "    orders = []\n",
    "    start_date = datetime.now() - timedelta(days=365)  # 假设订单是在过去一年内的\n",
    "    for order_id in range(1, num_orders + 1):\n",
    "        customer_id = random.choice(customers['customer_id'].values)\n",
    "        product_id = random.choice(products['product_id'].values)\n",
    "        order_date = start_date + timedelta(days=random.randint(0, 365))\n",
    "        amount = random.uniform(20, 500)  # 假设订单金额范围\n",
    "        orders.append([order_id, customer_id, product_id, order_date.date(), round(amount, 2)])\n",
    "    \n",
    "    return pd.DataFrame(orders, columns=['order_id', 'customer_id', 'product_id', 'order_date', 'amount'])\n",
    "\n",
    "# 保存数据到 CSV 文件\n",
    "def save_to_csv(df, filename):\n",
    "    df.to_csv(filename, index=False)\n",
    "    print(f\"Data saved to {filename}\")\n",
    "\n",
    "if __name__ == \"__main__\":\n",
    "    # 生成数据\n",
    "    customer_data = generate_customers(num_customers=100)\n",
    "    product_data = generate_products(num_products=50)\n",
    "    order_data = generate_orders(num_orders=500, customers=customer_data, products=product_data)\n",
    "    \n",
    "    # 保存到 CSV 文件\n",
    "    save_to_csv(customer_data, \"customer_data.csv\")\n",
    "    save_to_csv(product_data, \"product_data.csv\")\n",
    "    save_to_csv(order_data, \"order_data.csv\")"
   ]
  }
 ],
 "metadata": {
  "kernelspec": {
   "display_name": "py312",
   "language": "python",
   "name": "python3"
  },
  "language_info": {
   "codemirror_mode": {
    "name": "ipython",
    "version": 3
   },
   "file_extension": ".py",
   "mimetype": "text/x-python",
   "name": "python",
   "nbconvert_exporter": "python",
   "pygments_lexer": "ipython3",
   "version": "3.12.4"
  }
 },
 "nbformat": 4,
 "nbformat_minor": 2
}
