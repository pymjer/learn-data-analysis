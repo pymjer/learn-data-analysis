{
 "cells": [
  {
   "attachments": {},
   "cell_type": "markdown",
   "metadata": {},
   "source": [
    "## 地理信息\n",
    "\n",
    "[官方文档](https://www.osgeo.cn/geopy/)\n",
    "\n",
    " Nominatim 是免费的，但提供低请求限制。如果您需要进行更多的查询，可以考虑使用其他（可能是付费的）服务，例如 OpenMapQuest 或 PickPoint （这两个是提名的商业提供者，因此它们应该具有相同的数据和API）\n",
    "\n",
    " geopy不负责地理编码服务的数据库。如果您对服务无法完成的某些查询有问题，应该将其定向到该服务的支持团队"
   ]
  },
  {
   "cell_type": "code",
   "execution_count": 9,
   "metadata": {},
   "outputs": [],
   "source": [
    "from geopy.geocoders import Nominatim\n",
    "import folium\n",
    "from folium import Choropleth, Circle, Marker, GeoJson\n",
    "from folium.plugins import HeatMap, MarkerCluster\n"
   ]
  },
  {
   "cell_type": "markdown",
   "metadata": {},
   "source": [
    "## 地址解析"
   ]
  },
  {
   "cell_type": "code",
   "execution_count": 16,
   "metadata": {},
   "outputs": [
    {
     "name": "stdout",
     "output_type": "stream",
     "text": [
      "天府广场, 蜀都大道人民东路, 西华门社区, 西御河街道, 青羊区, 成都市, 四川省, 610015, 中国\n",
      "(30.6599157, 104.0638546)\n",
      "{'place_id': 76878088, 'licence': 'Data © OpenStreetMap contributors, ODbL 1.0. https://osm.org/copyright', 'osm_type': 'node', 'osm_id': 7417454927, 'boundingbox': ['30.6549157', '30.6649157', '104.0588546', '104.0688546'], 'lat': '30.6599157', 'lon': '104.0638546', 'display_name': '天府广场, 蜀都大道人民东路, 西华门社区, 西御河街道, 青羊区, 成都市, 四川省, 610015, 中国', 'class': 'railway', 'type': 'station', 'importance': 0.4380698768979776, 'icon': 'https://nominatim.openstreetmap.org/ui/mapicons/transport_train_station2.p.20.png'}\n"
     ]
    }
   ],
   "source": [
    "geolocator = Nominatim(user_agent=\"mybis\")\n",
    "\n",
    "addr = \"天府广场\"\n",
    "location = geolocator.geocode(addr)\n",
    "tf_addr = (location.latitude, location.longitude)\n",
    "\n",
    "if location != None:\n",
    "\tprint(location.address)\n",
    "\tprint(tf_addr)\n",
    "\tprint(location.raw)\n",
    "else:\n",
    "\tprint('未查询到:'+addr)\n"
   ]
  },
  {
   "cell_type": "code",
   "execution_count": 18,
   "metadata": {},
   "outputs": [
    {
     "data": {
      "text/html": [
       "<div style=\"width:100%;\"><div style=\"position:relative;width:100%;height:0;padding-bottom:60%;\"><span style=\"color:#565656\">Make this Notebook Trusted to load map: File -> Trust Notebook</span><iframe srcdoc=\"&lt;!DOCTYPE html&gt;\n",
       "&lt;html&gt;\n",
       "&lt;head&gt;\n",
       "    \n",
       "    &lt;meta http-equiv=&quot;content-type&quot; content=&quot;text/html; charset=UTF-8&quot; /&gt;\n",
       "    \n",
       "        &lt;script&gt;\n",
       "            L_NO_TOUCH = false;\n",
       "            L_DISABLE_3D = false;\n",
       "        &lt;/script&gt;\n",
       "    \n",
       "    &lt;style&gt;html, body {width: 100%;height: 100%;margin: 0;padding: 0;}&lt;/style&gt;\n",
       "    &lt;style&gt;#map {position:absolute;top:0;bottom:0;right:0;left:0;}&lt;/style&gt;\n",
       "    &lt;script src=&quot;https://cdn.jsdelivr.net/npm/leaflet@1.9.3/dist/leaflet.js&quot;&gt;&lt;/script&gt;\n",
       "    &lt;script src=&quot;https://code.jquery.com/jquery-1.12.4.min.js&quot;&gt;&lt;/script&gt;\n",
       "    &lt;script src=&quot;https://cdn.jsdelivr.net/npm/bootstrap@5.2.2/dist/js/bootstrap.bundle.min.js&quot;&gt;&lt;/script&gt;\n",
       "    &lt;script src=&quot;https://cdnjs.cloudflare.com/ajax/libs/Leaflet.awesome-markers/2.0.2/leaflet.awesome-markers.js&quot;&gt;&lt;/script&gt;\n",
       "    &lt;link rel=&quot;stylesheet&quot; href=&quot;https://cdn.jsdelivr.net/npm/leaflet@1.9.3/dist/leaflet.css&quot;/&gt;\n",
       "    &lt;link rel=&quot;stylesheet&quot; href=&quot;https://cdn.jsdelivr.net/npm/bootstrap@5.2.2/dist/css/bootstrap.min.css&quot;/&gt;\n",
       "    &lt;link rel=&quot;stylesheet&quot; href=&quot;https://netdna.bootstrapcdn.com/bootstrap/3.0.0/css/bootstrap.min.css&quot;/&gt;\n",
       "    &lt;link rel=&quot;stylesheet&quot; href=&quot;https://cdn.jsdelivr.net/npm/@fortawesome/fontawesome-free@6.2.0/css/all.min.css&quot;/&gt;\n",
       "    &lt;link rel=&quot;stylesheet&quot; href=&quot;https://cdnjs.cloudflare.com/ajax/libs/Leaflet.awesome-markers/2.0.2/leaflet.awesome-markers.css&quot;/&gt;\n",
       "    &lt;link rel=&quot;stylesheet&quot; href=&quot;https://cdn.jsdelivr.net/gh/python-visualization/folium/folium/templates/leaflet.awesome.rotate.min.css&quot;/&gt;\n",
       "    \n",
       "            &lt;meta name=&quot;viewport&quot; content=&quot;width=device-width,\n",
       "                initial-scale=1.0, maximum-scale=1.0, user-scalable=no&quot; /&gt;\n",
       "            &lt;style&gt;\n",
       "                #map_b9aa8b3f2419317973973429873785fc {\n",
       "                    position: relative;\n",
       "                    width: 100.0%;\n",
       "                    height: 100.0%;\n",
       "                    left: 0.0%;\n",
       "                    top: 0.0%;\n",
       "                }\n",
       "                .leaflet-container { font-size: 1rem; }\n",
       "            &lt;/style&gt;\n",
       "        \n",
       "&lt;/head&gt;\n",
       "&lt;body&gt;\n",
       "    \n",
       "    \n",
       "            &lt;div class=&quot;folium-map&quot; id=&quot;map_b9aa8b3f2419317973973429873785fc&quot; &gt;&lt;/div&gt;\n",
       "        \n",
       "&lt;/body&gt;\n",
       "&lt;script&gt;\n",
       "    \n",
       "    \n",
       "            var map_b9aa8b3f2419317973973429873785fc = L.map(\n",
       "                &quot;map_b9aa8b3f2419317973973429873785fc&quot;,\n",
       "                {\n",
       "                    center: [30.6598575631549, 104.0634342156895],\n",
       "                    crs: L.CRS.EPSG3857,\n",
       "                    zoom: 15,\n",
       "                    zoomControl: true,\n",
       "                    preferCanvas: false,\n",
       "                }\n",
       "            );\n",
       "\n",
       "            \n",
       "\n",
       "        \n",
       "    \n",
       "            var tile_layer_22897e1eb7d88880d7f5b8f4881556de = L.tileLayer(\n",
       "                &quot;https://{s}.tile.openstreetmap.org/{z}/{x}/{y}.png&quot;,\n",
       "                {&quot;attribution&quot;: &quot;Data by \\u0026copy; \\u003ca target=\\&quot;_blank\\&quot; href=\\&quot;http://openstreetmap.org\\&quot;\\u003eOpenStreetMap\\u003c/a\\u003e, under \\u003ca target=\\&quot;_blank\\&quot; href=\\&quot;http://www.openstreetmap.org/copyright\\&quot;\\u003eODbL\\u003c/a\\u003e.&quot;, &quot;detectRetina&quot;: false, &quot;maxNativeZoom&quot;: 18, &quot;maxZoom&quot;: 18, &quot;minZoom&quot;: 0, &quot;noWrap&quot;: false, &quot;opacity&quot;: 1, &quot;subdomains&quot;: &quot;abc&quot;, &quot;tms&quot;: false}\n",
       "            ).addTo(map_b9aa8b3f2419317973973429873785fc);\n",
       "        \n",
       "    \n",
       "            var marker_c397c6c6401db901023a738a7ede537b = L.marker(\n",
       "                [30.663503, 104.072425],\n",
       "                {}\n",
       "            ).addTo(map_b9aa8b3f2419317973973429873785fc);\n",
       "        \n",
       "    \n",
       "        var popup_ac08841d4cb66343c00aeb69f776d393 = L.popup({&quot;maxWidth&quot;: &quot;100%&quot;});\n",
       "\n",
       "        \n",
       "            \n",
       "                var html_d03f2187d4522c96238bb31f1b09ffda = $(`&lt;div id=&quot;html_d03f2187d4522c96238bb31f1b09ffda&quot; style=&quot;width: 100.0%; height: 100.0%;&quot;&gt;天府广场：百度地址&lt;/div&gt;`)[0];\n",
       "                popup_ac08841d4cb66343c00aeb69f776d393.setContent(html_d03f2187d4522c96238bb31f1b09ffda);\n",
       "            \n",
       "        \n",
       "\n",
       "        marker_c397c6c6401db901023a738a7ede537b.bindPopup(popup_ac08841d4cb66343c00aeb69f776d393)\n",
       "        ;\n",
       "\n",
       "        \n",
       "    \n",
       "    \n",
       "            var marker_c7080062d14e3ddd7dfddb3db77fc371 = L.marker(\n",
       "                [30.6598575631549, 104.0634342156895],\n",
       "                {}\n",
       "            ).addTo(map_b9aa8b3f2419317973973429873785fc);\n",
       "        \n",
       "    \n",
       "        var popup_480771038c98a0706ac597c09d9c31c7 = L.popup({&quot;maxWidth&quot;: &quot;100%&quot;});\n",
       "\n",
       "        \n",
       "            \n",
       "                var html_5bbf16735d26f3cbf5fffcd0628e8ccf = $(`&lt;div id=&quot;html_5bbf16735d26f3cbf5fffcd0628e8ccf&quot; style=&quot;width: 100.0%; height: 100.0%;&quot;&gt;天府广场：通用地址&lt;/div&gt;`)[0];\n",
       "                popup_480771038c98a0706ac597c09d9c31c7.setContent(html_5bbf16735d26f3cbf5fffcd0628e8ccf);\n",
       "            \n",
       "        \n",
       "\n",
       "        marker_c7080062d14e3ddd7dfddb3db77fc371.bindPopup(popup_480771038c98a0706ac597c09d9c31c7)\n",
       "        ;\n",
       "\n",
       "        \n",
       "    \n",
       "    \n",
       "            var marker_852786c9446a527986e48b92842cf6fc = L.marker(\n",
       "                [30.6599157, 104.0638546],\n",
       "                {}\n",
       "            ).addTo(map_b9aa8b3f2419317973973429873785fc);\n",
       "        \n",
       "    \n",
       "        var popup_f7e5b9a46542715bce77163b0adb3b1b = L.popup({&quot;maxWidth&quot;: &quot;100%&quot;});\n",
       "\n",
       "        \n",
       "            \n",
       "                var html_093e5fdee53d96d6782d9a81eacbee6d = $(`&lt;div id=&quot;html_093e5fdee53d96d6782d9a81eacbee6d&quot; style=&quot;width: 100.0%; height: 100.0%;&quot;&gt;天府广场：查询地址&lt;/div&gt;`)[0];\n",
       "                popup_f7e5b9a46542715bce77163b0adb3b1b.setContent(html_093e5fdee53d96d6782d9a81eacbee6d);\n",
       "            \n",
       "        \n",
       "\n",
       "        marker_852786c9446a527986e48b92842cf6fc.bindPopup(popup_f7e5b9a46542715bce77163b0adb3b1b)\n",
       "        ;\n",
       "\n",
       "        \n",
       "    \n",
       "&lt;/script&gt;\n",
       "&lt;/html&gt;\" style=\"position:absolute;width:100%;height:100%;left:0;top:0;border:none !important;\" allowfullscreen webkitallowfullscreen mozallowfullscreen></iframe></div></div>"
      ],
      "text/plain": [
       "<folium.folium.Map at 0x7fd16a6ed2a0>"
      ]
     },
     "execution_count": 18,
     "metadata": {},
     "output_type": "execute_result"
    }
   ],
   "source": [
    "# 天府广场,\n",
    "# 百度地址：四川省成都市锦江区人民南路一段86号\n",
    "ad1 = (30.663503, 104.072425)\n",
    "# 通用地址：通过算法转换后的地址\n",
    "ad2 = (30.6598575631549, 104.0634342156895)\n",
    "# geopy查询地址\n",
    "\n",
    "\n",
    "m_1 = folium.Map(location=ad2,\n",
    "                 tiles='openstreetmap', zoom_start=15)\n",
    "Marker(ad1, popup=\"天府广场：百度地址\").add_to(m_1)\n",
    "Marker(ad2, popup=\"天府广场：通用地址\").add_to(m_1)\n",
    "Marker(tf_addr, popup=\"天府广场：查询地址\").add_to(m_1)\n",
    "# Display the map\n",
    "m_1\n",
    "\n",
    "# 从上面的图可以看出，通用地址和查询地址都非常精确\n"
   ]
  },
  {
   "attachments": {},
   "cell_type": "markdown",
   "metadata": {},
   "source": [
    "## 逆地址解析"
   ]
  },
  {
   "cell_type": "code",
   "execution_count": 22,
   "metadata": {},
   "outputs": [
    {
     "name": "stdout",
     "output_type": "stream",
     "text": [
      "天府广场, 蜀都大道人民东路, 西华门社区, 西御河街道, 青羊区, 成都市, 四川省, 610015, 中国\n",
      "(30.6599157, 104.0638546)\n",
      "{'place_id': 76878088, 'licence': 'Data © OpenStreetMap contributors, ODbL 1.0. https://osm.org/copyright', 'osm_type': 'node', 'osm_id': 7417454927, 'lat': '30.6599157', 'lon': '104.0638546', 'display_name': '天府广场, 蜀都大道人民东路, 西华门社区, 西御河街道, 青羊区, 成都市, 四川省, 610015, 中国', 'address': {'railway': '天府广场', 'road': '蜀都大道人民东路', 'village': '西华门社区', 'suburb': '西御河街道', 'city': '青羊区', 'state': '四川省', 'ISO3166-2-lvl4': 'CN-SC', 'postcode': '610015', 'country': '中国', 'country_code': 'cn'}, 'boundingbox': ['30.6549157', '30.6649157', '104.0588546', '104.0688546']}\n"
     ]
    }
   ],
   "source": [
    "location = geolocator.reverse(tf_addr)\n",
    "if location != None:\n",
    "\tprint(location.address)\n",
    "\tprint(tf_addr)\n",
    "\tprint(location.raw)\n",
    "else:\n",
    "\tprint('未查询到:'+addr)"
   ]
  },
  {
   "attachments": {},
   "cell_type": "markdown",
   "metadata": {},
   "source": [
    "## 距离测量"
   ]
  },
  {
   "cell_type": "code",
   "execution_count": 33,
   "metadata": {},
   "outputs": [
    {
     "name": "stdout",
     "output_type": "stream",
     "text": [
      "{'place_id': 162278089, 'licence': 'Data © OpenStreetMap contributors, ODbL 1.0. https://osm.org/copyright', 'osm_type': 'way', 'osm_id': 220210595, 'boundingbox': ['35.0334679', '35.0337273', '135.7623544', '135.7630601'], 'lat': '35.03361645', 'lon': '135.7627072266606', 'display_name': '承天閣美術館, 寺町通, 相生町, 十念寺前町, 上京区, 京都市, 京都府, 602-0801, 日本', 'class': 'building', 'type': 'yes', 'importance': 0.21549815043721327}\n",
      "2994018.99067703\n"
     ]
    }
   ],
   "source": [
    "from geopy.distance import geodesic\n",
    "\n",
    "tfgc = geolocator.geocode('天府广场')\n",
    "hsgj = geolocator.geocode('成都市楚峰国际中心')\n",
    "print(hsgj.raw)\n",
    "print(geodesic((tfgc.latitude, tfgc.longitude), (hsgj.latitude, hsgj.longitude)).meters)\n"
   ]
  },
  {
   "attachments": {},
   "cell_type": "markdown",
   "metadata": {},
   "source": [
    "## 和Pandas结合使用"
   ]
  },
  {
   "cell_type": "code",
   "execution_count": 63,
   "metadata": {},
   "outputs": [
    {
     "data": {
      "text/html": [
       "<div>\n",
       "<style scoped>\n",
       "    .dataframe tbody tr th:only-of-type {\n",
       "        vertical-align: middle;\n",
       "    }\n",
       "\n",
       "    .dataframe tbody tr th {\n",
       "        vertical-align: top;\n",
       "    }\n",
       "\n",
       "    .dataframe thead th {\n",
       "        text-align: right;\n",
       "    }\n",
       "</style>\n",
       "<table border=\"1\" class=\"dataframe\">\n",
       "  <thead>\n",
       "    <tr style=\"text-align: right;\">\n",
       "      <th></th>\n",
       "      <th>name</th>\n",
       "      <th>location</th>\n",
       "      <th>latitude</th>\n",
       "      <th>longitude</th>\n",
       "    </tr>\n",
       "  </thead>\n",
       "  <tbody>\n",
       "    <tr>\n",
       "      <th>0</th>\n",
       "      <td>成都市环球中心</td>\n",
       "      <td>(环球中心, 天府大道北段, 桂溪街道, 高新南区, 武侯区, 成都市, 四川省, 6100...</td>\n",
       "      <td>30.571464</td>\n",
       "      <td>104.063083</td>\n",
       "    </tr>\n",
       "    <tr>\n",
       "      <th>1</th>\n",
       "      <td>成都市香年广场</td>\n",
       "      <td>(香年广场, 高新南区, 武侯区, 成都市, 四川省, 中国, (30.54724685, ...</td>\n",
       "      <td>30.547247</td>\n",
       "      <td>104.064010</td>\n",
       "    </tr>\n",
       "  </tbody>\n",
       "</table>\n",
       "</div>"
      ],
      "text/plain": [
       "      name                                           location   latitude  \\\n",
       "0  成都市环球中心  (环球中心, 天府大道北段, 桂溪街道, 高新南区, 武侯区, 成都市, 四川省, 6100...  30.571464   \n",
       "1  成都市香年广场  (香年广场, 高新南区, 武侯区, 成都市, 四川省, 中国, (30.54724685, ...  30.547247   \n",
       "\n",
       "    longitude  \n",
       "0  104.063083  \n",
       "1  104.064010  "
      ]
     },
     "execution_count": 63,
     "metadata": {},
     "output_type": "execute_result"
    }
   ],
   "source": [
    "from geopy.extra.rate_limiter import RateLimiter\n",
    "from geopy.geocoders import Nominatim\n",
    "import pandas as pd\n",
    "df = pd.DataFrame({'name': [\n",
    "\t\t# '成都市天府广场', \n",
    "\t\t# '成都市天府三街', \n",
    "\t\t'成都市环球中心',\n",
    "\t\t'成都市香年广场'\n",
    "\t\t]})\n",
    "\n",
    "geocode = RateLimiter(geolocator.geocode, min_delay_seconds=1)\n",
    "df['location'] = df['name'].apply(geocode)\n",
    "\n",
    "def getloc(loc): \n",
    "\tlocation = geocode(loc['name'])\n",
    "\treturn pd.Series({'latitude': location.latitude, 'longitude': location.longitude})\n",
    "\n",
    "\n",
    "df_loc = df.apply(getloc, axis='columns')\n",
    "# df['point'] = df['location'].apply(\n",
    "#     lambda loc: tuple(loc.point) if loc else None)\n",
    "\n",
    "df = df.join(df_loc)\n",
    "df\n"
   ]
  }
 ],
 "metadata": {
  "kernelspec": {
   "display_name": "analysis",
   "language": "python",
   "name": "python3"
  },
  "language_info": {
   "codemirror_mode": {
    "name": "ipython",
    "version": 3
   },
   "file_extension": ".py",
   "mimetype": "text/x-python",
   "name": "python",
   "nbconvert_exporter": "python",
   "pygments_lexer": "ipython3",
   "version": "3.10.8 (main, Nov 24 2022, 08:09:04) [Clang 14.0.6 ]"
  },
  "orig_nbformat": 4,
  "vscode": {
   "interpreter": {
    "hash": "dc2717f3a90f2d7ac54e406a1851f03c8abf78376148f03733034d69c0344ec9"
   }
  }
 },
 "nbformat": 4,
 "nbformat_minor": 2
}
